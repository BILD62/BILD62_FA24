{
 "cells": [
  {
   "cell_type": "markdown",
   "id": "699c836d",
   "metadata": {},
   "source": [
    "# NumPy\n",
    "\n",
    "In this notebook, we'll introduce NumPy, a popular Python library for scientific computing. First, we'll talk through some basic NumPy functionality, and then we'll use this knowledge to explore a dataset of patient inflammation.\n",
    "\n",
    "### At the end of this notebook, you'll be able to:\n",
    "- Explain what a library is and what libraries are used for\n",
    "- Import a Python library and use the functions it contains\n",
    "- Create NumPy arrays, and execute methods & access attributes of arrays\n",
    "- Read tabular data from a file into a program\n",
    "- Select individual values and subsections from data\n",
    "- Perform operations on arrays of data\n",
    "\n",
    "<hr>\n",
    "\n",
    "## About this notebook\n",
    "The second half of this notebook is based on [this notebook](https://swcarpentry.github.io/python-novice-inflammation/02-numpy/index.html) from the Software Carpentries and is licensed under a CC-BY-40 license (2018-2021):\n",
    "\n",
    "> Azalee Bostroem, Trevor Bekolay, and Valentina Staneva (eds):\n",
    "\"Software Carpentry: Programming with Python.\"  Version 2016.06, June\n",
    "2016, https://github.com/swcarpentry/python-novice-inflammation,\n",
    "10.5281/zenodo.57492.\n",
    "\n",
    "This notebook also takes inspiration from UCSD COGS18 Materials, created by Tom Donoghue & Shannon Ellis, as well as <a href=\"https://github.com/jrjohansson/scientific-python-lectures/blob/master/Lecture-2-Numpy.ipynb\">JR Johannson's Scientific Python Lecture on Numpy</a>.\n",
    "\n",
    "<hr>"
   ]
  },
  {
   "cell_type": "markdown",
   "id": "14f73e46",
   "metadata": {},
   "source": [
    "## Importing packages\n",
    "**NumPy** is a useful library that can help store and wrangle homogeneous data. \"Homogenous\" means that all data points within the data are of the same [data type](https://jakevdp.github.io/PythonDataScienceHandbook/02.01-understanding-data-types.html). In general, you should use this library when you want to use python for solving equations and analyzing data, especially if you have matrices or arrays.\n",
    "\n",
    "Before we can use NumPy, we need to import the package. We can also nickname the modules when we import them. The convention is to import `numpy` as `np`. "
   ]
  },
  {
   "cell_type": "code",
   "execution_count": null,
   "id": "754ac2f1",
   "metadata": {},
   "outputs": [],
   "source": [
    "# Import packages\n",
    "import numpy as np\n",
    "\n",
    "# Use whos to see available modules\n",
    "%whos"
   ]
  },
  {
   "cell_type": "markdown",
   "id": "54d510b7",
   "metadata": {},
   "source": [
    "Importing a library is like getting a piece of lab equipment out of a storage locker and setting it up on the bench. Libraries provide additional functionality to the basic Python package, much like a new piece of equipment adds functionality to a lab space. Just like in the lab, importing too many libraries can sometimes complicate and slow down your programs - so we only import what we need for each program.\n",
    "\n",
    "## Creating NumPy arrays\n",
    "Once we’ve imported the library, we can an array create in a few different ways:\n",
    "* from a Python list or tuples\n",
    "* by using functions that are dedicated to generating numpy arrays, such as `arange`, `linspace`, `empty`,`zeroes`, etc.\n",
    "* reading data from files"
   ]
  },
  {
   "cell_type": "code",
   "execution_count": null,
   "id": "b9a467cd",
   "metadata": {},
   "outputs": [],
   "source": [
    "# Create a list\n",
    "lst = [1,2,3,4,5]\n",
    "\n",
    "# Make our list into an array\n",
    "my_vector = np.array(lst)"
   ]
  },
  {
   "cell_type": "code",
   "execution_count": null,
   "id": "7aa08142",
   "metadata": {},
   "outputs": [],
   "source": [
    "# If we give numpy a list of lists, it will create a matrix\n",
    "my_matrix = np.array([lst,lst])\n",
    "print(my_matrix)"
   ]
  },
  {
   "cell_type": "markdown",
   "id": "21f82077",
   "metadata": {},
   "source": [
    "### Data Type\n",
    "\n",
    "A NumPy array contains one or more elements of the same type. The `type` function will only tell you that a variable is a NumPy array but won't tell you the type of thing inside the array. We can find out the type of the data contained in the NumPy array using an attribute of the array, `dtype`."
   ]
  },
  {
   "cell_type": "code",
   "execution_count": null,
   "id": "a8a30900",
   "metadata": {},
   "outputs": [],
   "source": [
    "my_matrix.dtype"
   ]
  },
  {
   "cell_type": "markdown",
   "id": "cc7def4b",
   "metadata": {},
   "source": [
    "Array data type is decided upon creation of the array. You can explicitly define the data type by using `dtype= ` when you use `np.array()`. You can set the dtype to be `int, float, complex, bool, object`, etc\n",
    "\n",
    "We can test shape and size either by looking at the `shape` attribute of the array, or by using the `shape()` and `size()` functions. Other attributes that might be of interest are `ndim`."
   ]
  },
  {
   "cell_type": "markdown",
   "id": "8d3c26b9",
   "metadata": {},
   "source": [
    "<div class=\"alert alert-success\">\n",
    "\n",
    "**Task**: Create an array of booleans called `bool_array` that is 2 rows x 3 columns. Access the `shape` and `ndim` attributes to confirm its size, and the `dtype` attribute to confirm that it is boolean.\n",
    "\n",
    "</div>"
   ]
  },
  {
   "cell_type": "code",
   "execution_count": null,
   "id": "ba962f11",
   "metadata": {},
   "outputs": [],
   "source": [
    "# Your code here\n"
   ]
  },
  {
   "cell_type": "markdown",
   "id": "c1cd04f7",
   "metadata": {},
   "source": [
    "We can also index arrays using booleans or lists. When we use Booleans, we can think of this as **subsetting** or filtering the array. For example:"
   ]
  },
  {
   "cell_type": "code",
   "execution_count": null,
   "id": "e64e98a0",
   "metadata": {},
   "outputs": [],
   "source": [
    "# Index with an operator\n",
    "bool_matrix = my_matrix[my_matrix>2]\n",
    "\n",
    "# Index with a list of coordinates\n",
    "list_matrix = my_matrix[[0,1],[1,3]]\n",
    "\n",
    "print(my_matrix)\n",
    "print(bool_matrix)\n",
    "print(list_matrix)"
   ]
  },
  {
   "cell_type": "markdown",
   "id": "d4829efd",
   "metadata": {},
   "source": [
    "<div class=\"alert alert-success\">\n",
    "\n",
    "**Task**: Filter the `bool_array` you created above to create a `true_array` that only contains True values.\n",
    "\n",
    "</div>"
   ]
  },
  {
   "cell_type": "code",
   "execution_count": null,
   "id": "ee6362f5",
   "metadata": {},
   "outputs": [],
   "source": [
    "true_array = ..."
   ]
  },
  {
   "cell_type": "markdown",
   "id": "bd1a94c5",
   "metadata": {},
   "source": [
    "### Benefits of using arrays\n",
    "In addition to being less clunky & a bit faster than lists of lists, arrays can do a lot of things that lists can't. For example, we can add and multiply them. Alternatively, we can use the `sum` method to sum across a specific axis."
   ]
  },
  {
   "cell_type": "code",
   "execution_count": null,
   "id": "0a3571d9",
   "metadata": {},
   "outputs": [],
   "source": [
    "sum_list = [1,3,5] + [3,5,7]\n",
    "sum_array = np.array([1,3,5]) + np.array([3,5,7])\n",
    "mult_array = np.array([1,3,5]) * np.array([3,5,7])\n",
    "\n",
    "print(sum_list)\n",
    "print(mult_array)"
   ]
  },
  {
   "cell_type": "code",
   "execution_count": null,
   "id": "75c762fb",
   "metadata": {},
   "outputs": [],
   "source": [
    "this_array = np.array([[1,3,5],[3,5,7]])\n",
    "sum_rows = this_array.sum(axis=1)\n",
    "print(this_array)\n",
    "print(sum_rows)"
   ]
  },
  {
   "cell_type": "markdown",
   "id": "394d591b",
   "metadata": {},
   "source": [
    "### Numpy also includes some very useful array generating functions:\n",
    "\n",
    "* `arange`: like `range` but gives you a useful numpy array, instead of an iterator, and can use more than just integers)\n",
    "* `linspace` creates an array with given start and end points, and a desired number of points\n",
    "* `logspace` same as linspace, but in log.\n",
    "* `random` can create a random list (there are <a href=\"https://docs.scipy.org/doc/numpy-1.14.0/reference/routines.random.html\">many different ways to use this</a>)\n",
    "* `concatenate` which can concatenate two arrays along an existing axis [<a href=\"https://docs.scipy.org/doc/numpy/reference/generated/numpy.concatenate.html\">documentation</a>]\n",
    "* `hstack` and `vstack` which can horizontally or vertically stack arrays\n",
    "\n",
    "Whenever we call these, we need to use whatever name we imported numpy as (here, `np`)."
   ]
  },
  {
   "cell_type": "code",
   "execution_count": null,
   "id": "297deed4",
   "metadata": {},
   "outputs": [],
   "source": [
    "# When using linspace, both end points are included!\n",
    "np.linspace(0,147,10)"
   ]
  },
  {
   "cell_type": "markdown",
   "id": "1453c5d0",
   "metadata": {},
   "source": [
    "<div class=\"alert alert-success\">\n",
    "\n",
    "**Task**: Create an array called `big_array` that has two rows. The first row should be a list of 10 numbers that are evenly spaced, and range from exactly 1 to 100. The second row should be a list of 10 numbers that begin at 0 and are exactly 10 apart. `big_array` should have a shape (2,10): two rows, and ten columns. Lastly, reassign the last value of each row in the array to be -100. \n",
    "\n",
    "*Hint*: Create your two arrays, and then use the `vstack` method to stack them.\n",
    "\n",
    "</div>"
   ]
  },
  {
   "cell_type": "code",
   "execution_count": null,
   "id": "438cc6ca",
   "metadata": {},
   "outputs": [],
   "source": [
    "big_array = ..."
   ]
  },
  {
   "cell_type": "markdown",
   "id": "0094d7f2",
   "metadata": {},
   "source": [
    "Numpy also has built in methods to save and load arrays: `np.save()` and `np.load()`. Numpy files have a .npy extension.\n",
    "\n",
    "See full documentation <a href=\"https://docs.scipy.org/doc/numpy/reference/generated/numpy.save.html\">here</a>."
   ]
  },
  {
   "cell_type": "code",
   "execution_count": null,
   "id": "7d9754b7",
   "metadata": {},
   "outputs": [],
   "source": [
    "# Save method takes arguments 'filename' and then 'array':\n",
    "np.save('matrix',my_matrix)"
   ]
  },
  {
   "cell_type": "code",
   "execution_count": null,
   "id": "6028724a",
   "metadata": {},
   "outputs": [],
   "source": [
    "my_new_matrix = np.load('matrix.npy')\n",
    "my_new_matrix"
   ]
  },
  {
   "cell_type": "markdown",
   "id": "0ff102b8",
   "metadata": {},
   "source": [
    "<hr>\n",
    "\n",
    "## Importing inflammation data\n",
    "\n",
    "Our imaginary colleague “Dr. Maverick” has invented a new miracle drug that promises to cure arthritis inflammation flare-ups after only 3 weeks since initially taking the medication! Naturally, we wish to see the clinical trial data, and after months of asking for the data they have finally provided us with a CSV spreadsheet containing the clinical trial data.\n",
    "\n",
    "The CSV file contains the number of inflammation flare-ups per day for the 60 patients in the initial clinical trial, with the trial lasting 40 days. Each row corresponds to a patient, and each column corresponds to a day in the trial. Once a patient has their first inflammation flare-up they take the medication and wait a few weeks for it to take effect and reduce flare-ups.\n",
    "\n",
    "To see how effective the treatment is we would like to:\n",
    "\n",
    "1. Calculate the average inflammation per day across all patients.\n",
    "2. Plot the result to discuss and share with colleagues.\n",
    "\n",
    "![](https://swcarpentry.github.io/python-novice-inflammation/fig/lesson-overview.svg)\n",
    "\n",
    "### Data Format\n",
    "The data sets are stored in comma-separated values (CSV) format. Each row holds information for a single patient and columns represent successive days. The first three rows of our first file look like this:\n",
    "\n",
    "```\n",
    "0,0,1,3,1,2,4,7,8,3,3,3,10,5,7,4,7,7,12,18,6,13,11,11,7,7,4,6,8,8,4,4,5,7,3,4,2,3,0,0\n",
    "0,1,2,1,2,1,3,2,2,6,10,11,5,9,4,4,7,16,8,6,18,4,12,5,12,7,11,5,11,3,3,5,4,4,5,5,1,1,0,1\n",
    "0,1,1,3,3,2,6,2,5,9,5,7,4,5,4,15,5,11,9,10,19,14,12,17,7,12,11,7,4,2,10,5,4,2,2,3,2,2,1,1\n",
    "```\n",
    "\n",
    "**Each number represents the number of inflammation bouts that a particular patient experienced on a given day.** For example, value “6” at row 3 column 7 of the data set above means that the third patient was experiencing inflammation six times on the seventh day of the clinical study."
   ]
  },
  {
   "cell_type": "markdown",
   "id": "28381c21",
   "metadata": {},
   "source": [
    "### Loading in the data\n",
    "First, we'll use NumPy to read in our data file for us. Please note that this file, `inflammation-01.csv` is contained in the \"Data\" folder in our \"Materials\" repository."
   ]
  },
  {
   "cell_type": "code",
   "execution_count": null,
   "id": "9b6ffb07",
   "metadata": {},
   "outputs": [],
   "source": [
    "np.loadtxt(fname='Data/Inflammation/inflammation-01.csv', delimiter=',')"
   ]
  },
  {
   "cell_type": "markdown",
   "id": "c3727ff7",
   "metadata": {},
   "source": [
    "The expression `numpy.loadtxt(...)` is a **function call** that asks Python to run the **function** `loadtxt` which\n",
    "belongs to the `numpy` library.\n",
    "\n",
    "`numpy.loadtxt` has two **parameters**: the name of the file we want to read and the **delimiter** that separates values on a line. These both need to be strings, so we put them in quotes.\n",
    "\n",
    "Since we haven't told it to do anything else with the function's output, the notebook displays it. In this case,\n",
    "that output is the data we just loaded. By default, only a few rows and columns are shown (with `...` to omit elements when displaying big arrays). Note that, to save space when displaying NumPy arrays, Python does not show us trailing zeros, so `1.0` becomes `1.`.\n",
    "\n",
    "Our call to `numpy.loadtxt` read our file but didn't save the data in memory.\n",
    "To do that, we need to assign the array to a variable. In a similar manner to how we assign a single value to a variable, we can also assign an array of values to a variable using the same syntax. \n",
    "\n",
    "Let's re-run `numpy.loadtxt` and save the returned data:"
   ]
  },
  {
   "cell_type": "code",
   "execution_count": null,
   "id": "762e1f0d",
   "metadata": {},
   "outputs": [],
   "source": [
    "data = np.loadtxt(fname='Data/Inflammation/inflammation-01.csv', delimiter=',')"
   ]
  },
  {
   "cell_type": "markdown",
   "id": "098fb342",
   "metadata": {},
   "source": [
    "This statement doesn't produce any output because we've assigned the output to the variable `data`.\n",
    "If we want to check that the data have been loaded,\n",
    "we can print the variable's value:"
   ]
  },
  {
   "cell_type": "code",
   "execution_count": null,
   "id": "f8bef4c5",
   "metadata": {},
   "outputs": [],
   "source": [
    "print(data)"
   ]
  },
  {
   "cell_type": "markdown",
   "id": "b51d161d",
   "metadata": {},
   "source": [
    "Now that the data are in memory, we can manipulate them.\n",
    "First, let's ask what **type** of thing `data` refers to:"
   ]
  },
  {
   "cell_type": "code",
   "execution_count": null,
   "id": "21ad4f6f",
   "metadata": {},
   "outputs": [],
   "source": [
    "type(data)"
   ]
  },
  {
   "cell_type": "markdown",
   "id": "4b606b82",
   "metadata": {},
   "source": [
    "The output tells us that `data` currently refers to an N-dimensional array, the functionality for which is provided by the NumPy library. These data correspond to arthritis patients' inflammation. The rows are the individual patients, and the columns are their daily inflammation measurements.\n",
    "\n",
    "<div class=\"alert alert-success\">\n",
    "\n",
    "**Task**: Check the data type and shape in our `data` array.\n",
    "\n",
    "</div>"
   ]
  },
  {
   "cell_type": "code",
   "execution_count": null,
   "id": "e856535d",
   "metadata": {},
   "outputs": [],
   "source": [
    "# Your code here\n"
   ]
  },
  {
   "cell_type": "markdown",
   "id": "ee061565",
   "metadata": {},
   "source": [
    "The output tells us that the data array variable contains 60 **rows** and 40 **columns** that are **floating-point. numbers**. When we created the variable `data` to store our arthritis data, we did not only create the array; we also created information about the array, called attributes. This extra information describes data in the same way an adjective describes a noun. `data.shape` is an attribute of data which describes the dimensions of data. We use the same dotted notation for the attributes of variables that we use for the functions in libraries because they have the same part-and-whole relationship.\n",
    "\n",
    "## Indexing arrays\n",
    "\n",
    "If we want to get a single number from the array, we must provide an **index** in square brackets after the variable name, just as we did for strings and lists, and just as we do in math when referring to an element of a matrix. \n",
    "\n",
    "Indexing and slicing 1D arrays (vectors) is similar to indexing lists. \n",
    "* You can index arrays using `[row,column]`. If you omit the column, it will give you the whole row.\n",
    "* If you use `:` for either row or column, it will give you all of those values.\n",
    "\n",
    "Our inflammation data has two dimensions, so we will need to use two indices to refer to one specific value."
   ]
  },
  {
   "cell_type": "code",
   "execution_count": null,
   "id": "dd489713",
   "metadata": {},
   "outputs": [],
   "source": [
    "print('first value in data:', data[0, 0])"
   ]
  },
  {
   "cell_type": "code",
   "execution_count": null,
   "id": "ec771a9c",
   "metadata": {},
   "outputs": [],
   "source": [
    "print('middle value in data:', data[30, 20])"
   ]
  },
  {
   "cell_type": "markdown",
   "id": "06aa5689",
   "metadata": {},
   "source": [
    "The expression `data[30, 20]` accesses the element at row 30, column 20. While this expression may not surprise you, `data[0, 0]` might. As a result, if we have an M×N array in Python, its indices go from 0 to M-1 on the first axis and 0 to N-1 on the second. It takes a bit of getting used to, but one way to remember the rule is that the index is how many steps we have to take from the start to get the item we want.\n",
    "\n",
    ">What may also surprise you is that when Python displays an array, it shows the element with index `[0, 0]` in the upper left corner rather than the lower left. This is consistent with the way mathematicians draw matrices but different from the Cartesian coordinates. The indices are (row, column) instead of (column, row) for the same reason, which can be confusing when plotting data.\n",
    "\n",
    "## Slicing arrays\n",
    "\n",
    "An index like `[30, 20]` selects a single element of an array, but we can select whole sections as well. \n",
    "\n",
    "<div class=\"alert alert-success\">\n",
    "\n",
    "**Task**: Select the first **ten** days (columns) of values for the first **four** patients (rows).\n",
    "\n",
    "</div>"
   ]
  },
  {
   "cell_type": "markdown",
   "id": "75685396",
   "metadata": {},
   "source": [
    "## Analyzing data\n",
    "NumPy has several useful functions that take an array as input to perform operations on its values. If we want to find the average inflammation for all patients on all days, for example, we can ask NumPy to compute `data`’s mean value. `mean` is a function that takes an array as an argument."
   ]
  },
  {
   "cell_type": "code",
   "execution_count": null,
   "id": "4334951d",
   "metadata": {},
   "outputs": [],
   "source": [
    "print(np.mean(data))"
   ]
  },
  {
   "cell_type": "markdown",
   "id": "4317fd5c",
   "metadata": {},
   "source": [
    "Let’s use three other NumPy functions to get some descriptive values about the dataset. \n",
    "\n",
    "<div class=\"alert alert-success\"> <b>Task</b>: Print the maximum value, minimum value, and standard deviation of data.</div>"
   ]
  },
  {
   "cell_type": "code",
   "execution_count": null,
   "id": "5f917e1f",
   "metadata": {},
   "outputs": [],
   "source": [
    "# Max, min, and std here\n"
   ]
  },
  {
   "cell_type": "markdown",
   "id": "1e8827b0",
   "metadata": {},
   "source": [
    "When analyzing this data, we might want to look at more specific values, such as the maximum inflammation per patient or the average inflammation per day. One way to do this is to create a new temporary array of the data we want, then ask it to do the calculation:"
   ]
  },
  {
   "cell_type": "code",
   "execution_count": null,
   "id": "5a78bbb0",
   "metadata": {},
   "outputs": [],
   "source": [
    "patient_0 = data[0, :] # 0 on the first axis (rows), everything on the second (columns)\n",
    "print('maximum inflammation for patient 0:', np.max(patient_0))"
   ]
  },
  {
   "cell_type": "markdown",
   "id": "13e9d17e",
   "metadata": {},
   "source": [
    "We don’t actually need to store the row in a variable of its own. Instead, we can combine the selection and the function call:"
   ]
  },
  {
   "cell_type": "code",
   "execution_count": null,
   "id": "804f1ec5",
   "metadata": {},
   "outputs": [],
   "source": [
    "print('maximum inflammation for patient 2:', np.max(data[2, :]))"
   ]
  },
  {
   "cell_type": "markdown",
   "id": "152b4a6c",
   "metadata": {},
   "source": [
    "What if we need the maximum inflammation for each patient over all days (as in the next diagram on the left) or the average for each day (as in the diagram on the right)? As the diagram below shows, we want to perform the operation across an axis:\n",
    "\n",
    "![](Images/python-operations-across-axes.png)\n",
    "\n",
    "To support this functionality, most array functions allow us to specify the axis we want to work on. If we ask for the average across axis 0 (rows in our 2D example), we get:"
   ]
  },
  {
   "cell_type": "code",
   "execution_count": null,
   "id": "1be2c267",
   "metadata": {},
   "outputs": [],
   "source": [
    "print(np.mean(data, axis=0))"
   ]
  },
  {
   "cell_type": "markdown",
   "id": "1ef41c37",
   "metadata": {},
   "source": [
    "As a quick check, we can ask this array what its shape is:"
   ]
  },
  {
   "cell_type": "code",
   "execution_count": null,
   "id": "355509f0",
   "metadata": {},
   "outputs": [],
   "source": [
    "print(np.mean(data, axis=0).shape)"
   ]
  },
  {
   "cell_type": "markdown",
   "id": "914659d9",
   "metadata": {},
   "source": [
    "The expression `(40,)` tells us we have an N×1 vector, so this is the average inflammation per day for all patients. If we average across axis 1 (columns in our 2D example), we get:"
   ]
  },
  {
   "cell_type": "code",
   "execution_count": null,
   "id": "3ab79cbe",
   "metadata": {},
   "outputs": [],
   "source": [
    "print(np.mean(data, axis=1))"
   ]
  },
  {
   "cell_type": "markdown",
   "id": "7c371da8",
   "metadata": {},
   "source": [
    "which is the average inflammation per patient across all days!\n",
    "\n",
    "## Calculating the change in inflammation\n",
    "\n",
    "The patient data is longitudinal in the sense that each row represents a series of observations relating to one individual. This means that the change in inflammation over time is a meaningful concept. Let’s find out how to calculate changes in the data contained in an array with NumPy.\n",
    "\n",
    "The `numpy.diff()` function takes an array and returns the differences between two successive values. Let’s use it to examine the changes each day across the first week of patient 3 from our inflammation dataset."
   ]
  },
  {
   "cell_type": "code",
   "execution_count": null,
   "id": "84ac3462",
   "metadata": {},
   "outputs": [],
   "source": [
    "patient3_week1 = data[3, :7]\n",
    "print(patient3_week1)"
   ]
  },
  {
   "cell_type": "markdown",
   "id": "8fd4d39d",
   "metadata": {},
   "source": [
    "Calling `numpy.diff(patient3_week1)` will do the following calculations:  `[ 0 - 0, 2 - 0, 0 - 2, 4 - 0, 2 - 4, 2 - 2 ]` and return the 6 difference values in a new array."
   ]
  },
  {
   "cell_type": "code",
   "execution_count": null,
   "id": "95e24c12",
   "metadata": {},
   "outputs": [],
   "source": [
    "np.diff(patient3_week1)"
   ]
  },
  {
   "cell_type": "markdown",
   "id": "50c001ab",
   "metadata": {},
   "source": [
    "<div class=\"alert alert-success\">\n",
    "\n",
    "**Task**: What is the shape of the new array, and why?\n",
    "    \n",
    "**Task #2**: When calling <code>numpy.diff</code> with a multi-dimensional array, an axis argument may be passed to the function to specify which axis to process. When applying numpy.diff to our 2D inflammation array data, which axis would we specify to look at the difference from day to day? Write the code below.\n",
    "    \n",
    "</div>"
   ]
  },
  {
   "cell_type": "code",
   "execution_count": null,
   "id": "36bd8cbb",
   "metadata": {},
   "outputs": [],
   "source": [
    "# Your code here\n"
   ]
  },
  {
   "cell_type": "markdown",
   "id": "19ed4f4a",
   "metadata": {},
   "source": [
    "<div class=\"alert alert-success\">\n",
    "\n",
    "**Final challenge**: How would you find the largest change in inflammation for each patient? Does it matter if the change in inflammation is an increase or a decrease?\n",
    "    \n",
    "</div>  "
   ]
  },
  {
   "cell_type": "markdown",
   "id": "add43e69",
   "metadata": {},
   "source": [
    "<hr>\n",
    "\n",
    "##  Key takeaways\n",
    "\n",
    "- Import a library into a program using import libraryname.\n",
    "- Use the NumPy library to work with arrays in Python.\n",
    "- The expression array.shape gives the shape of an array.\n",
    "- Use array[x, y] to select a single element from a 2D array.\n",
    "- Array indices start at 0, not 1.\n",
    "- Use low:high to specify a slice that includes the indices from low to high-1.\n",
    "- Use # some kind of explanation to add comments to programs. \n",
    "- Use numpy.mean(array), numpy.max(array), and numpy.min(array) to calculate simple statistics.\n",
    "- Use numpy.mean(array, axis=0) or numpy.mean(array, axis=1) to calculate statistics across the specified axis."
   ]
  }
 ],
 "metadata": {
  "kernelspec": {
   "display_name": "Python 3 (ipykernel)",
   "language": "python",
   "name": "python3"
  },
  "language_info": {
   "codemirror_mode": {
    "name": "ipython",
    "version": 3
   },
   "file_extension": ".py",
   "mimetype": "text/x-python",
   "name": "python",
   "nbconvert_exporter": "python",
   "pygments_lexer": "ipython3",
   "version": "3.11.9"
  }
 },
 "nbformat": 4,
 "nbformat_minor": 5
}
