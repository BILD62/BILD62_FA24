{
 "cells": [
  {
   "cell_type": "markdown",
   "metadata": {},
   "source": [
    "# Logistic Map\n",
    "In this notebook, we'll explore polynomial mapping and visulize chaotic behavious arising from very simple non-linear dynamical equations."
   ]
  },
  {
   "cell_type": "markdown",
   "metadata": {},
   "source": [
    "## At the end of this notebook, you'll be able to:\n",
    "* Understand what is a logisitic map.\n",
    "* Visualize the effects of parameters and inital values on the behavior of an ecological system described by the logistic map.\n",
    "* Observe chaos generated from a simple non linear equation."
   ]
  },
  {
   "cell_type": "code",
   "execution_count": 1,
   "metadata": {},
   "outputs": [],
   "source": [
    "import numpy as np\n",
    "import matplotlib.pyplot as plt"
   ]
  },
  {
   "cell_type": "markdown",
   "metadata": {},
   "source": [
    "## Defining Logistic Map\n",
    "Mathematically, the logistic map is written as:<br>\n",
    "**$x_{t+1} = r x_t (1 - x_t)$**\n",
    "\n",
    "where, <br>\n",
    "**$x_t$** is a number between zero and one, that represents the ratio of existing population to the maximum possible population at time-step **$t$** <br>\n",
    "**r** is a paramter that can be tuned. Range of interest $[0,4]$.\n",
    "\n",
    "\n",
    "We will be defining two functions, **logisitic_map** and **logistic_map_time**. <br>\n",
    "**logisitic_map** will return the next state, given the current state and **$r$**. <br>\n",
    "**logistic_map_time** will return the evolution of the states over a period of time given an initial state and **$r$**."
   ]
  },
  {
   "cell_type": "code",
   "execution_count": 4,
   "metadata": {},
   "outputs": [],
   "source": [
    "def logistic_map(x,r):\n",
    "    ''' Your docstring here '''\n",
    "    # your code here\n",
    "\n",
    "def logistic_map_time(x0,r,T=1000):\n",
    "    ''' Your docstring here '''\n",
    "    # your code here\n"
   ]
  },
  {
   "cell_type": "markdown",
   "metadata": {},
   "source": [
    "## Visualizing Chaos\n",
    "\n",
    "### Part 1: Small change in initial condition, large change in output\n",
    "Now, we have our logistic map, let's plot some graphs to see how different values of **$r$** (especially beyond $3.5$) can lead to a larger change in the population over time for very small changes in initial conditions.\n",
    "\n",
    "Let's take two **$r$** values, **$r_0 = 3.2$** and **$r_1 = 3.6$**. Also, take two _very close_ inital conditions **$x_0 = 0.4444$** and **$x_1 = 0.4443$**. Calculate the logistic maps over time ($T = 100$) for the intial condition **$x_0$** and **$x_1$** with **$r_0$** as parameter. Similarly calculate with **$r_1$** as parameter and plot 2 graphs with **time** on **x-axis** and **$x_t$** for the two different initial conditions on **y-axis**. Also, plot the difference between the **$x_t$** for the two inital conditions.\n",
    "\n",
    "### Part 2: The Cobweb Diagram\n",
    "The cobweb diagram gives us information on how the initial condition evolves over time. Let's first plot for different **$x_0$** values between 0 and 1, their corresponding **$x_1$** values. Plot **$x_0$** on **x-axis** and **$x_1$** on **y-axis** for **$r_0$** and **$r_1$** separately. Also, plot **$x_0$** vs **$x_0$** (straight line) on the individual graphs for reference. We have already calculated for **Part 1** the logistic maps over time for **$x_0, r_0$** and **$x_0, r_1$**, so lets use this, to see how the population evolves over time for the same intial condition but different **$r$** values. On the same graph, plot the **$x_t$** values on the **x-axis** and their corresponding **$x_{t+1}$** values on the **y-axis** for both the **$r$** values."
   ]
  },
  {
   "cell_type": "code",
   "execution_count": 4,
   "metadata": {},
   "outputs": [],
   "source": [
    "T = 100\n",
    "x_array = np.linspace(0,1,1000)\n",
    "\n",
    "x0_0   = 0.4444\n",
    "x0_1   = 0.4443\n",
    "\n",
    "r_0 = 3.2\n",
    "r_1 = 3.6"
   ]
  },
  {
   "cell_type": "markdown",
   "metadata": {},
   "source": [
    "## Visualizing the effect of Initial Conditions\n",
    "In the above cell we have seen that slight change in initial condition leads to a large change in ouput when **$r$** is greater than some value. Now lets see the effect of different initial conditions on the population. Plot the logistic map over time ($T = 20$) for different initial conditions and two different **$r$** values **$r_0 = 2.5$** and **$r_1 = 3.5$**."
   ]
  },
  {
   "cell_type": "code",
   "execution_count": 5,
   "metadata": {},
   "outputs": [],
   "source": [
    "T = 20\n",
    "x_array = np.linspace(0.01,0.99,100)\n",
    "\n",
    "r_0 = 2.5\n",
    "r_1 = 3.5"
   ]
  },
  {
   "cell_type": "markdown",
   "metadata": {},
   "source": [
    "# Visualizing the effect of the parameter **$r$**\n",
    "Now we have seen that the initial condition doesn't affect the population over time, let's see how the population changes with different **r** values. Plot the logistic map over time ($T = 30$) with initial condition as 0.2 for different **$r$** values."
   ]
  },
  {
   "cell_type": "code",
   "execution_count": 6,
   "metadata": {},
   "outputs": [],
   "source": [
    "T        = 30\n",
    "\n",
    "n_r_plot = 16\n",
    "r_array  = np.linspace(0.4,4,n_r_plot)"
   ]
  },
  {
   "cell_type": "markdown",
   "metadata": {},
   "source": [
    "## Plotting the Bifurcation Diagram (Period Doubling)\n",
    "From the above plots, we know that the paramter **r** affects the population dynamics and the sensitivity to the initial condition. Now let's plot the population after it has \"stabilized\" for different values of **$r$**. Compute the logistic map over time ($T = 1000$) for initial condition of 0.2 and different values of **$r$**. Let's take the population (**$x_t$**) after time 500 so that it would be stabilized. Plot the **$r$** values on **x-axis** and **$x_t$** on **y-axis**."
   ]
  },
  {
   "cell_type": "code",
   "execution_count": 7,
   "metadata": {},
   "outputs": [],
   "source": [
    "T        = 1000\n",
    "T_start  = 500\n",
    "\n",
    "n_r      = 2000\n",
    "r_array  = np.linspace(1,8,n_r)"
   ]
  },
  {
   "cell_type": "markdown",
   "metadata": {},
   "source": [
    "## Plotting the Return Map\n",
    "For different r values, we have seen that $x_t$ might not settle at one value but might osciallate between multiple values. Let's plot a graph that shows the number of values **$x_t$** visits for different **$r$** values."
   ]
  },
  {
   "cell_type": "code",
   "execution_count": 8,
   "metadata": {},
   "outputs": [],
   "source": [
    "T        = 1000\n",
    "T_start  = 500\n",
    "\n",
    "n_r      = 2000\n",
    "r_array  = np.linspace(1,4,n_r)\n"
   ]
  },
  {
   "cell_type": "markdown",
   "metadata": {},
   "source": [
    "## References\n",
    "* https://en.wikipedia.org/wiki/Logistic_map\n",
    "* May, Robert M. (1976). \"Simple mathematical models with very complicated dynamics\". Nature. 261 (5560): 459–467. Bibcode:1976Natur.261..459M. Paper: [Link](https://www.nature.com/articles/261459a0)"
   ]
  }
 ],
 "metadata": {
  "kernelspec": {
   "display_name": "Python 3 (ipykernel)",
   "language": "python",
   "name": "python3"
  },
  "language_info": {
   "codemirror_mode": {
    "name": "ipython",
    "version": 3
   },
   "file_extension": ".py",
   "mimetype": "text/x-python",
   "name": "python",
   "nbconvert_exporter": "python",
   "pygments_lexer": "ipython3",
   "version": "3.11.9"
  },
  "vscode": {
   "interpreter": {
    "hash": "084ea2963dccb208356025d94d09d8acd0316075c90270027deec954feaa11ee"
   }
  }
 },
 "nbformat": 4,
 "nbformat_minor": 4
}
