{
 "cells": [
  {
   "cell_type": "markdown",
   "metadata": {},
   "source": [
    "# Matrix multiplication and networks of neurons\n",
    "\n",
    "In this notebook, we'll go back to numpy and learn how to multiply matrices.\n",
    "\n",
    "We'll apply it by building  our first model of a neuron, and a network of neurons.\n"
   ]
  },
  {
   "cell_type": "code",
   "execution_count": 1,
   "metadata": {},
   "outputs": [],
   "source": [
    "import numpy as np\n",
    "import matplotlib.pyplot as plt"
   ]
  },
  {
   "cell_type": "markdown",
   "metadata": {},
   "source": [
    "* `X` is a **matrix** (2-dimensional numpy array) with `N` rows and `T` columns\n",
    "\n",
    "\n",
    "* In our example, the elements `X[i,t]` correspond to the activity of neurons.\n",
    "    * `i` is an index of neurons (rows), it ranges between `0` and `N-1`\n",
    "    * `t` is an index of time, it ranges between `0` and `T-1`\n",
    "    * `X[i,t]=1` means that neuron `i` is active at time `t`, and `X[i,t]=0` means it is inactive.\n",
    "\n",
    "\n",
    "* Initially the activity of our `N` neurons will be completely random.\n",
    "\n",
    "\n",
    "* `f` is the last parameter we need to define `X`.\n",
    "  The meaning of `f` is the probability that a neuron is active."
   ]
  },
  {
   "cell_type": "markdown",
   "metadata": {},
   "source": [
    "---\n",
    "###### Task:\n",
    "* Write the Python code to define `X` with the parameters:\n",
    "\n",
    "            N = 100, T = 1000, f = 0.1\n",
    "\n",
    "* The type of each element should be a float\n",
    "---"
   ]
  },
  {
   "cell_type": "code",
   "execution_count": null,
   "metadata": {},
   "outputs": [],
   "source": [
    "# your code here\n"
   ]
  },
  {
   "cell_type": "markdown",
   "metadata": {},
   "source": [
    "* `w` is a **vector** (1-dimensional numpy array) with `N` rows and `1` column\n",
    "\n",
    "* In our example, the elements `w` indicate the strength of the synaptic connections **from** all our neurons **to** a new neuron."
   ]
  },
  {
   "cell_type": "markdown",
   "metadata": {},
   "source": [
    "----\n",
    "###### Task:\n",
    "Write the Python code to define `w`\n",
    "\n",
    "Each connection should be a standard normal random variable.\n",
    "\n",
    "----"
   ]
  },
  {
   "cell_type": "code",
   "execution_count": null,
   "metadata": {},
   "outputs": [],
   "source": [
    "# your code here\n"
   ]
  },
  {
   "cell_type": "markdown",
   "metadata": {},
   "source": [
    "* The **input** to our new neuron at time `t = 0` is:\n",
    "\n",
    "        `y[0] = X[0,0]*w[0] + X[1,0]*w[1] + ... + X[N-1,0]*w[N-1]`\n",
    "* If we look at all the time points `t = 1 , ... , T-1`, then `y` is also a vector.\n",
    "* What is the length of the vector `y`?"
   ]
  },
  {
   "cell_type": "markdown",
   "metadata": {},
   "source": [
    "`y` is the **product** of the matrix `X` and the vector `w`"
   ]
  },
  {
   "cell_type": "markdown",
   "metadata": {},
   "source": [
    "### Let's review basic rules for multiplying matrices \n",
    "\n",
    "* What do the dimensions of two matrices have to be so that they can be multiplied?\n",
    "* When two matrices can be multiplied, what are the dimensions of the result?\n",
    "* What is the formula for multiplying matrices?"
   ]
  },
  {
   "cell_type": "markdown",
   "metadata": {},
   "source": [
    "We will compute the product of `X` and `w` in three different ways, to understand how Python's built-in matrix product function works."
   ]
  },
  {
   "cell_type": "code",
   "execution_count": null,
   "metadata": {},
   "outputs": [],
   "source": [
    "# matrix product, with two for-loops\n",
    "\n",
    "y_v2 = ..."
   ]
  },
  {
   "cell_type": "code",
   "execution_count": null,
   "metadata": {},
   "outputs": [],
   "source": [
    "# matrix product, with one for-loop\n",
    "\n",
    "y_v1 = ..."
   ]
  },
  {
   "cell_type": "code",
   "execution_count": null,
   "metadata": {},
   "outputs": [],
   "source": [
    "# matrix product, with no for-loops\n",
    "\n",
    "y_v0 = ..."
   ]
  },
  {
   "cell_type": "markdown",
   "metadata": {},
   "source": [
    "**Now the neurons that provide the inputs (\"presynaptic\") are the same ones that receive it (\"postsynaptic\")**\n",
    "\n",
    "* This is called a **recurrent** network.\n",
    "* There are many examples of recurrent networks in biology.\n",
    "    * Networks of neurons\n",
    "    * Networks of animals\n",
    "    * Networks of genes\n",
    "    * Networks of nutrient supply\n",
    "    * Networks of networks\n",
    "    \n",
    "\n",
    "So instead of a weight *vector* from `N` neurons to `1` neuron,\n",
    "we need a weight *matrix* from `N` neurons to (the same) `N` neurons."
   ]
  },
  {
   "cell_type": "markdown",
   "metadata": {},
   "source": [
    "----\n",
    "###### Task:\n",
    "Write the Python code to define a connectivity matrix `W`\n",
    "\n",
    "Each connection should be a standard normal random variable.\n",
    "\n",
    "Since neurons are almost never connected to themselves, we need to set the diagonal elements of `W` to 0.\n",
    "    \n",
    "There are many ways to do this. \n",
    "* for-loop\n",
    "* use `np.eye()` to create a matrix with 1's on the diagonal and 0's everywhere else\n",
    "* use `np.diag()` to extract the diagonal of a matrix or create a diagonal matrix\n",
    "\n",
    "----"
   ]
  },
  {
   "cell_type": "code",
   "execution_count": null,
   "metadata": {},
   "outputs": [],
   "source": [
    "# your code here\n"
   ]
  },
  {
   "cell_type": "markdown",
   "metadata": {},
   "source": [
    "When we modeled a single neuron receiving inputs, `y` was the **input** to that neuron. \n",
    "\n",
    "The **input** to a neuron is not equal to its **output** (whether it is active or not)\n",
    "\n",
    "We can convert the input to an output by setting the output to 1 if the input is positive, and to 0 if the input is negative."
   ]
  },
  {
   "cell_type": "markdown",
   "metadata": {},
   "source": [
    "----\n",
    "###### Task:\n",
    "Write the Python code to simulate the activity of a recurrent network \n",
    "\n",
    "Question: Do we have to use a for loop now? Why/Why not?\n",
    "\n",
    "----"
   ]
  },
  {
   "cell_type": "code",
   "execution_count": null,
   "metadata": {},
   "outputs": [],
   "source": [
    "# your code here\n"
   ]
  }
 ],
 "metadata": {
  "kernelspec": {
   "display_name": "Python 3 (ipykernel)",
   "language": "python",
   "name": "python3"
  },
  "language_info": {
   "codemirror_mode": {
    "name": "ipython",
    "version": 3
   },
   "file_extension": ".py",
   "mimetype": "text/x-python",
   "name": "python",
   "nbconvert_exporter": "python",
   "pygments_lexer": "ipython3",
   "version": "3.11.9"
  }
 },
 "nbformat": 4,
 "nbformat_minor": 4
}
