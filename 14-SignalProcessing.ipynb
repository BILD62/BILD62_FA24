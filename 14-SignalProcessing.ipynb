{
 "cells": [
  {
   "cell_type": "markdown",
   "metadata": {},
   "source": [
    "# Signal processing\n",
    "Here, we'll demonstrate how you could implement common signal processing techniques for neuroscience data using Python. Along the way, we'll explore a few useful tools for dealing with time series data, particularly EEG and ECoG data.\n",
    "\n",
    "### By the end of this notebook, you'll be able to:\n",
    "* Demonstrate how we can add sine waves to create complex waveforms\n",
    "* Apply a fourier transform to your data\n",
    "* Filter data by frequency bandwidths of interest\n",
    "* Use Welch's method to create a power spectral density plot\n",
    "\n",
    "First, let's get setup..."
   ]
  },
  {
   "cell_type": "code",
   "execution_count": null,
   "metadata": {},
   "outputs": [],
   "source": [
    "# All of the lovely packages we need for today\n",
    "import scipy as sp\n",
    "import numpy as np\n",
    "import matplotlib.pyplot as plt\n",
    "import matplotlib_inline\n",
    "matplotlib_inline.backend_inline.set_matplotlib_formats('retina')"
   ]
  },
  {
   "cell_type": "markdown",
   "metadata": {},
   "source": [
    "## Part I: Simple sine waves\n",
    "\n",
    "Let's first generate a sine wave. We'll then generate a second sine wave and add these together to understand what a fourier transform of this data would look like. **Sine waves** are defined by their frequency, ampltitude, and and phase."
   ]
  },
  {
   "cell_type": "code",
   "execution_count": null,
   "metadata": {},
   "outputs": [],
   "source": [
    "f = 1024 # Sampling frequency\n",
    "dur = 1 # 1 second of signal\n",
    "freq = 7 # 7 Hz signal\n",
    "freq2 = 130 # 130 Hz signal\n",
    "\n",
    "t = np.arange(0, dur, 1/f) # Generate a time vector\n",
    "\n",
    "sig1 = np.sin(2 * np.pi * freq * t) # Generate a sine wave\n",
    "sig1 = 2 * sig1; # Increase the power of signal 1\n",
    "\n",
    "sig2 = np.sin(2 * np.pi * freq2 * t) # Generate another sine wave"
   ]
  },
  {
   "cell_type": "markdown",
   "metadata": {},
   "source": [
    "Plot our sine waves.\n",
    "\n",
    "<div class=\"alert alert-success\">\n",
    "<b>Task</b>:\n",
    "\n",
    "1. Add the two sine waves together, to create a third signal `comb_sig_12`.\n",
    "2. Plot this signal.\n",
    "    \n",
    "</div>"
   ]
  },
  {
   "cell_type": "code",
   "execution_count": null,
   "metadata": {},
   "outputs": [],
   "source": [
    "# Add signal 1 & 2\n",
    "\n",
    "comb_sig_12 = ...\n",
    "\n",
    "\n",
    "# Plot\n"
   ]
  },
  {
   "cell_type": "markdown",
   "metadata": {},
   "source": [
    "Below, we'll calculate the **Fourier Transform** using the fast fourier transform package from numpy. The fft (developed by Tukey -- same Tukey as the statistics Tukey -- in 1965) implements a _discrete_ Fourier transform for a digital signal."
   ]
  },
  {
   "cell_type": "code",
   "execution_count": null,
   "metadata": {},
   "outputs": [],
   "source": [
    "# Calculate the fourier transform of complex signal\n",
    "fourier = np.fft.fft(combined_signal)/len(t)*np.sqrt(f)  # Compute the fft, normalized by time and sqrt of sampling frequency\n",
    "\n",
    "# Find frequency values for the x axis\n",
    "nyq = f/2 # Determine the nyquist frequency\n",
    "\n",
    "# Create freq bins for plotting by creating a vector from 0 to nyquist\n",
    "# with as many points as in fft\n",
    "fx_bins = np.linspace(0,nyq,int(np.floor(len(sig1)/2))+1)\n",
    "\n",
    "# Plotting up to 200 Hz\n",
    "plt.plot(fx_bins[0:200],abs(fourier[0:200])) # Plot a select range of frequencies\n",
    "plt.ylabel('Power')\n",
    "plt.xlabel('Frequency (Hz)')\n",
    "plt.title('FFT of a complex signal')\n",
    "plt.show()"
   ]
  },
  {
   "cell_type": "markdown",
   "metadata": {},
   "source": [
    "**Note**: As Pascal Wallisch & Eric Nylen have written: \"Frequency space is a place of _magic and wonder_.\" The Fourier transform of a time series usually involves complex numbers with imaginary parts. If we plot the Fourier transform itself by typing `plt.plot(fourier)`, it will yield a funky plot. That’s because the complex numbers represent both magnitude and phase at once, but we are _only interested in amplitude or power_ at this point, which is why we plotted only the absolute values above. Also, if you type `plt.plot(abs(fourier))`, you will get a plot of all the magnitudes, but note that it is mirror-symmetric in the middle—it repeats after half the sampling rate."
   ]
  },
  {
   "cell_type": "markdown",
   "metadata": {},
   "source": [
    "## Step 2. Import and filter real sleep data.\n",
    "\n",
    "Normal physiological data is never as regular as the data above -- it's usually chock full of lots of different waves, as well as noise. Now that we have a sense of the tools we need, let's work with some real data.\n",
    "\n",
    "The data we'll import here is a real 30-seconds extract of slow-wave sleep from a young individual, collected by the Walker Lab at UC Berkeley. This data was collected at 100 Hz from channel 'F3'. This sampling frequency is fine for EEG data, but wouldn't be enough for high frequency spiking data. That kind of data is typically sampled at 40 **kilo**Hz."
   ]
  },
  {
   "cell_type": "code",
   "execution_count": null,
   "metadata": {},
   "outputs": [],
   "source": [
    "import urllib.request\n",
    "\n",
    "# URL of data to download\n",
    "data_url = 'https://raphaelvallat.com/images/tutorials/bandpower/data.txt'\n",
    "\n",
    "# Get the data and save it as \"sleep_data.txt\"\n",
    "sleep_data, headers = urllib.request.urlretrieve(data_url, './sleep_data.txt')"
   ]
  },
  {
   "cell_type": "markdown",
   "metadata": {},
   "source": [
    "<div class=\"alert alert-success\">\n",
    "    <b>Task</b>: Using a numpy function we've already learned, load your text file and assign it to \"data\". "
   ]
  },
  {
   "cell_type": "code",
   "execution_count": null,
   "metadata": {},
   "outputs": [],
   "source": [
    "# Load the .txt file\n"
   ]
  },
  {
   "cell_type": "markdown",
   "metadata": {},
   "source": [
    "First, we'll plot the raw data. The data provides the information about voltage for the y axis. However, we need to also create a time vector, so that we can accurately label the x axis. The `np.arange()` method is very useful for this. We need to create a vector that is the same length as our data, but where each number is in terms of **time**, not **samples**. To do so, we'll divide our vector by the sampling rate."
   ]
  },
  {
   "cell_type": "markdown",
   "metadata": {},
   "source": [
    "<div class=\"alert alert-success\">\n",
    "\n",
    "**Task**: Create a `time_vector` variable so that your data is plotted in seconds, not samples.\n",
    "\n",
    "</div>"
   ]
  },
  {
   "cell_type": "code",
   "execution_count": null,
   "metadata": {},
   "outputs": [],
   "source": [
    "# Define sampling frequency, num_samples, and time vector\n",
    "sampling_freq = 100 # sampling frequency, in Hz\n",
    "num_samples = ...\n",
    "time_vector = ... "
   ]
  },
  {
   "cell_type": "markdown",
   "metadata": {},
   "source": [
    "<div class=\"alert alert-success\">\n",
    "\n",
    "**Task**: Plot your signal! You only need to add a line of code where it says `# ADD CODE HERE`\n",
    "\n",
    "</div>"
   ]
  },
  {
   "cell_type": "code",
   "execution_count": null,
   "metadata": {},
   "outputs": [],
   "source": [
    "# Plot the signal\n",
    "fig, ax = plt.subplots(figsize=(12, 4))\n",
    "\n",
    "# ADD CODE HERE\n",
    "\n",
    "\n",
    "plt.xlabel('Time (seconds)')\n",
    "plt.ylabel('Voltage')\n",
    "plt.title('N3 sleep EEG data (F3)')\n",
    "plt.show()"
   ]
  },
  {
   "cell_type": "markdown",
   "metadata": {},
   "source": [
    "## Step 3. Apply a bandpass filter to our signal\n",
    "\n",
    "Below, we'll compute a bandpass by first applying a _low-pass filter_, followed by a _high-pass filter_ (or vice versa).\n",
    "\n",
    "Signal filtration is usually accomplished in 2 steps\n",
    "1. Design a _filter kernel_\n",
    "2. Apply the filter kernel to the data\n",
    "    \n",
    "We will use a **Butterworth** filter. The ideal filter would _completely_ pass everything in the passband (i.e., allow through the parts of the signal we care about) and completely reject everything outside of it, but this cannot be achieved in reality—the Butterworth filter is a close approximation.\n",
    "\n",
    "We design the filter in Python using `scipy`'s `signal.butter` function, with three arguments:\n",
    "1. The _filter order_ (we'll use a 4th order filter)\n",
    "2. The _filter frequency_ (we must adjust for the sampling frequency, `f_s`, which is 1000 Hz for these data, i.e. 1000 data points were recorded per second)\n",
    "3. The type of filter (`'lowpass'` or `'highpass'`)\n",
    "\n",
    "It returns 2 filter parameters, `a` and `b`. Then, the bandpass filter is applied using `signal.filtfilt`, which takes as its parameters `b`, `a`, and the signal to be processed\n",
    "\n",
    "Below, an example bandpass computation is shown to extract the _alpha_ rhythm from the channel 1 data, the results are stored in a dictionary called `oscillations_filtered`, with the oscillation name (e.g. `'alpha'`) as the key"
   ]
  },
  {
   "cell_type": "code",
   "execution_count": null,
   "metadata": {
    "scrolled": true
   },
   "outputs": [],
   "source": [
    "from scipy import signal\n",
    "\n",
    "# Define lower and upper limits of our bandpass\n",
    "filter_limits = [0.5, 4]\n",
    "\n",
    "# First, apply a lowpass filter\n",
    "b, a = signal.butter(4, (filter_limits[1]/ (sampling_freq / 2)), 'lowpass') # Design filter with high filter limit\n",
    "lowpassed = signal.filtfilt(b, a, data) # Apply it forwards and backwards (filtfilt)\n",
    "\n",
    "# Then, apply a high pass filter\n",
    "b, a = signal.butter(4, (filter_limits[0] / (sampling_freq / 2)), 'highpass') # Design filter with low filter limit\n",
    "bandpassed = signal.filtfilt(b, a, lowpassed) # Apply it\n",
    "\n",
    "print('Data filtered!')"
   ]
  },
  {
   "cell_type": "markdown",
   "metadata": {},
   "source": [
    "Now, let's plot our original and bandpassed data."
   ]
  },
  {
   "cell_type": "code",
   "execution_count": null,
   "metadata": {},
   "outputs": [],
   "source": [
    "fig, ax = plt.subplots(2,1,figsize=(12, 8), sharex=True)\n",
    "\n",
    "# Plot our raw data\n",
    "ax[0].plot(time_vector,data)\n",
    "ax[0].set_ylabel('Voltage')\n",
    "ax[0].set_title('N3 sleep EEG data (F3)')\n",
    "\n",
    "# Plot the bandpassed data\n",
    "ax[1].plot(time_vector,bandpassed)\n",
    "ax[1].set_ylabel('Voltage')\n",
    "\n",
    "# Let's programmatically set the title here, using {} format\n",
    "ax[1].set_title('N3 sleep EEG data (F3), {} band' .format(filter_limits))\n",
    "\n",
    "plt.xlabel('Time (seconds)')\n",
    "plt.show()"
   ]
  },
  {
   "cell_type": "markdown",
   "metadata": {},
   "source": [
    "This filtering is useful for cleaning up the data, but what if we still want a _quantitative_ idea of our the strength of our signal in these different frequency bands? This is where our fourier transform comes in handy. In order to compute the average bandpower in the delta band, we first need to compute an estimate of the **power spectral density** (PSD)."
   ]
  },
  {
   "cell_type": "markdown",
   "metadata": {},
   "source": [
    "## Step 4: Compute power across frequencies in our signal\n",
    "\n",
    "<div class=\"alert alert-success\">\n",
    "\n",
    "**Task**: Compute the fourier transform of `data` and plot it as a PSD plot. You only need to plot frequencies from 0 to 50 Hz, which is from `0:1500` in your `fx_bins`. Plot the same `0:1500` slice of your `fourier` vector as well. \n",
    "\n",
    "</div>"
   ]
  },
  {
   "cell_type": "code",
   "execution_count": null,
   "metadata": {},
   "outputs": [],
   "source": [
    "# Calculate the fourier transform of complex signal\n",
    "ft = np.fft.fft(data)/len(time_vector) # Compute the fft, normalized by time\n",
    "\n",
    "# Find frequency values for the x axis\n",
    "nyq = sampling_freq/2 # Determine the nyquist frequency\n",
    "\n",
    "# Create freq bins for plotting by creating a vector from 0 to nyquist, with as many points as in fft\n",
    "fx_bins = np.linspace(0,nyq,int(np.floor(len(data)/2))+1)\n",
    "\n",
    "# plotting up to 200 Hz\n",
    "plt.figure(figsize=(8, 6))\n",
    "plt.plot(fx_bins[0:1500],abs(ft[0:1500]))\n",
    "plt.ylabel('Power (V^2 / Hz)')\n",
    "plt.xlabel('Frequency (Hz)')\n",
    "plt.title('FFT of our EEG signal')\n",
    "plt.show()"
   ]
  },
  {
   "cell_type": "markdown",
   "metadata": {},
   "source": [
    "Hmm, this is interesting but a bit noisy. Maybe we need a method that is _better_ than the simple fast fourier transform for this type of data. Thankfully, there's a way to smooth out our fft without losing too much information. \n",
    "\n",
    "The most widely-used method to do that is [**Welch's Method**](https://en.wikipedia.org/wiki/Welch%27s_method), which consists in averaging consecutive Fourier transform of small windows of the signal, with or without overlapping. Basically, we calculate the fft of a signal across a few sliding windows, and then calculate the mean PSD from all the sliding windows.\n",
    "\n",
    "The `freqs` vector contains the x-axis (frequency bins) and the `psd` vector contains the y-axis (power spectral density). The units of the power spectral density, when working with EEG data, is usually $\\mu$V^2 per Hz."
   ]
  },
  {
   "cell_type": "code",
   "execution_count": null,
   "metadata": {},
   "outputs": [],
   "source": [
    "# Define sliding window length (4 seconds, which will give us 2 full cycles at 0.5 Hz)\n",
    "win = 4 * sampling_freq\n",
    "freqs, psd = signal.welch(data, sampling_freq, nperseg=win)\n",
    "\n",
    "# Plot the power spectrum\n",
    "plt.figure(figsize=(8, 6))\n",
    "plt.plot(freqs, psd)\n",
    "plt.xlabel('Frequency (Hz)')\n",
    "plt.ylabel('Power spectral density (V^2 / Hz)')\n",
    "plt.title(\"Welch's PSD\")\n",
    "plt.show()"
   ]
  },
  {
   "cell_type": "markdown",
   "metadata": {},
   "source": [
    "That's much easier to interpret! And more importantly, it's computationally sound.\n",
    "\n",
    "**Note**: Sometimes you'll see these plots in log-log, where both the x and y axes are scaled in log10 units. You can do so with the `plt.loglog()` plotting method (instead of `plt.plot()`) or by using a `ax.set_xscale('log')`."
   ]
  },
  {
   "cell_type": "markdown",
   "metadata": {},
   "source": [
    "As a final demonstration, we can plot a spectrogram of our signal. This is a common way to visualize EEG signals. The spectrogram results from doing the FFT on the snippet of the signal that falls into a “window,” plotting the frequency content in the window, then moving the window in time and plotting the frequency content again (and again) until the window has moved across the entire signal."
   ]
  },
  {
   "cell_type": "code",
   "execution_count": null,
   "metadata": {
    "scrolled": true
   },
   "outputs": [],
   "source": [
    "window_size = 1024; # Define the number of elements in our binning window\n",
    "wind = np.hanning(window_size) # Create a \"hanning\" window with our given size\n",
    "\n",
    "# Create the spectrogram and plot\n",
    "\n",
    "fig = plt.figure() \n",
    "f, tt, Sxx = signal.spectrogram(data,sampling_freq,wind,len(wind),len(wind)-1)\n",
    "plt.pcolormesh(tt,f,Sxx,cmap='hot') #14\n",
    "plt.ylabel('Frequency (Hz)')\n",
    "plt.xlabel('Time (sec)')\n",
    "plt.ylim([0,20])\n",
    "plt.show()"
   ]
  },
  {
   "cell_type": "markdown",
   "metadata": {},
   "source": [
    "This isn't particularly interesting -- it's 30 seconds of someone sleeping, after all! But you can clearly see some power in the delta band."
   ]
  },
  {
   "cell_type": "markdown",
   "metadata": {},
   "source": [
    "The goal of many labs on campus (and in neuroscience) is to understand the physiological mechanism behind these wavelengths and the shape of the brain's PSD. For example, what factors are correlated with the shapes of the peaks? What are the physiological bases of these peaks?"
   ]
  },
  {
   "cell_type": "markdown",
   "metadata": {},
   "source": [
    "## About this notebook\n",
    "\n",
    "Some of the code in this notebook was adapted from [this tutorial](https://raphaelvallat.com/bandpower.html) by Raphael Vallat, [these tutorials](https://github.com/voytekresearch/Tutorials) from Torben Noto, and _Neural Data Science_ by Pascal Wallisch."
   ]
  }
 ],
 "metadata": {
  "kernelspec": {
   "display_name": "Python 3 (ipykernel)",
   "language": "python",
   "name": "python3"
  },
  "language_info": {
   "codemirror_mode": {
    "name": "ipython",
    "version": 3
   },
   "file_extension": ".py",
   "mimetype": "text/x-python",
   "name": "python",
   "nbconvert_exporter": "python",
   "pygments_lexer": "ipython3",
   "version": "3.11.9"
  }
 },
 "nbformat": 4,
 "nbformat_minor": 4
}
