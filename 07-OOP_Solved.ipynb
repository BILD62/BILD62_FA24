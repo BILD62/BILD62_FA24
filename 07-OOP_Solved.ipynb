{
 "cells": [
  {
   "cell_type": "markdown",
   "metadata": {
    "slideshow": {
     "slide_type": "slide"
    }
   },
   "source": [
    "# Object-oriented programming\n",
    "\n",
    "In this notebook, we'll encounter **objects** and their use in Python.\n",
    "\n",
    "### At the end of this notebook, you'll be able to:\n",
    "* Access attributes and execute methods of objects\n",
    "* Define classes and recognize class definition syntax\n",
    "* Understand how to manipulate instances of a class\n",
    "\n",
    "<hr>"
   ]
  },
  {
   "cell_type": "markdown",
   "metadata": {
    "slideshow": {
     "slide_type": "slide"
    }
   },
   "source": [
    "<font color='Red'><font size = 8>Everything in Python is an object.</font></font>\n",
    "\n",
    "<font color='Orange'><font size = \"10\">Everything in Python is an object.</font></font>\n",
    "\n",
    "<font color='Green'><font size = \"10\">Everything in Python is an object.</font></font>\n",
    "\n",
    "<font color='Blue'><font size = \"10\">Everything in Python is an object.</font></font>\n",
    "\n",
    "<font color='Purple'><font size = \"10\">Everything in Python is an object.</font></font>"
   ]
  },
  {
   "cell_type": "markdown",
   "metadata": {
    "slideshow": {
     "slide_type": "slide"
    }
   },
   "source": [
    "**Objects** are an organization of data (**attributes**), with associated code to operate on that data (functions defined on the objects, called **methods**).\n",
    "\n",
    "Syntax:\n",
    "```\n",
    "obj.method()\n",
    "obj.attribute\n",
    "```"
   ]
  },
  {
   "cell_type": "markdown",
   "metadata": {},
   "source": [
    "> **Question for consideration**: Given what we’ve discussed in this course so far, if you wanted to store information about a date, how would you do so?"
   ]
  },
  {
   "cell_type": "code",
   "execution_count": 1,
   "metadata": {},
   "outputs": [
    {
     "name": "stdout",
     "output_type": "stream",
     "text": [
      "False\n"
     ]
    }
   ],
   "source": [
    "# Store information about a date here\n",
    "date_1 = 'October 17th, 2024'\n",
    "date_2 = [10,17,2024]\n",
    "date_3 = 10172024\n",
    "\n",
    "print(date_1 == date_2)"
   ]
  },
  {
   "cell_type": "markdown",
   "metadata": {
    "slideshow": {
     "slide_type": "slide"
    }
   },
   "source": [
    "## Example object: Date\n",
    "Date is **class** module that we can import from the built-in **module** [datetime](https://docs.python.org/3/library/datetime.html). Modules can contain any combination of functions, classes, or variables, that become accessible once we import them.\n",
    "\n",
    "Let's use `date` to demonstrate the features of an object in Python."
   ]
  },
  {
   "cell_type": "code",
   "execution_count": 2,
   "metadata": {
    "slideshow": {
     "slide_type": "fragment"
    }
   },
   "outputs": [],
   "source": [
    "# Import date from datetime module\n",
    "from datetime import date"
   ]
  },
  {
   "cell_type": "code",
   "execution_count": 6,
   "metadata": {
    "slideshow": {
     "slide_type": "slide"
    }
   },
   "outputs": [
    {
     "name": "stdout",
     "output_type": "stream",
     "text": [
      "2024-10-17\n"
     ]
    }
   ],
   "source": [
    "# Set the data we want to store in our date object\n",
    "day = 17\n",
    "month = 10\n",
    "year = 2024\n",
    "\n",
    "# Create a date object\n",
    "my_date = date(year, month, day)\n",
    "print(my_date)"
   ]
  },
  {
   "cell_type": "code",
   "execution_count": 7,
   "metadata": {
    "slideshow": {
     "slide_type": "fragment"
    }
   },
   "outputs": [
    {
     "data": {
      "text/plain": [
       "datetime.date"
      ]
     },
     "execution_count": 7,
     "metadata": {},
     "output_type": "execute_result"
    }
   ],
   "source": [
    "# Check what type of thing `my_date` is\n",
    "type(my_date)"
   ]
  },
  {
   "cell_type": "markdown",
   "metadata": {
    "slideshow": {
     "slide_type": "slide"
    }
   },
   "source": [
    "We can check what attributes and methods an object has by using `.` after your variable name. You can also check more generally for the object type by using `date.` Alternatively, you can use `dir()` to check.\n",
    "\n",
    "**Attributes** maintain the object's state, simply returning information about the object to you (e.g., day, time, year)."
   ]
  },
  {
   "cell_type": "code",
   "execution_count": 9,
   "metadata": {
    "slideshow": {
     "slide_type": "fragment"
    }
   },
   "outputs": [
    {
     "name": "stdout",
     "output_type": "stream",
     "text": [
      "17 10 2024\n"
     ]
    }
   ],
   "source": [
    "print(my_date.day,my_date.month,my_date.year)"
   ]
  },
  {
   "cell_type": "markdown",
   "metadata": {
    "slideshow": {
     "slide_type": "slide"
    }
   },
   "source": [
    "**Methods** are functions that belong to and operate on the object directly."
   ]
  },
  {
   "cell_type": "code",
   "execution_count": 10,
   "metadata": {
    "slideshow": {
     "slide_type": "fragment"
    }
   },
   "outputs": [
    {
     "data": {
      "text/plain": [
       "3"
      ]
     },
     "execution_count": 10,
     "metadata": {},
     "output_type": "execute_result"
    }
   ],
   "source": [
    "# Method to return what day of the week the date is\n",
    "# Note the parentheses for methods.\n",
    "my_date.weekday()"
   ]
  },
  {
   "cell_type": "markdown",
   "metadata": {
    "slideshow": {
     "slide_type": "slide"
    }
   },
   "source": [
    "Many objects also have very useful operations associated with them. For example, date allows us to subtract to find the difference between two dates."
   ]
  },
  {
   "cell_type": "code",
   "execution_count": 11,
   "metadata": {
    "slideshow": {
     "slide_type": "fragment"
    }
   },
   "outputs": [
    {
     "name": "stdout",
     "output_type": "stream",
     "text": [
      "16151 days\n",
      "44.24931506849315 years\n"
     ]
    }
   ],
   "source": [
    "# Define a second date\n",
    "my_date2 = date(1980, 7, 29)\n",
    "\n",
    "# Calculate the difference between times\n",
    "time_diff = my_date - my_date2\n",
    "print(time_diff.days,  \"days\") #in days\n",
    "print(time_diff.days/365,\"years\") #in years"
   ]
  },
  {
   "cell_type": "markdown",
   "metadata": {
    "slideshow": {
     "slide_type": "slide"
    }
   },
   "source": [
    "Another useful module is `datetime`. We can use it to print today's date, for example."
   ]
  },
  {
   "cell_type": "code",
   "execution_count": 13,
   "metadata": {
    "slideshow": {
     "slide_type": "fragment"
    }
   },
   "outputs": [
    {
     "data": {
      "text/plain": [
       "79337"
      ]
     },
     "execution_count": 13,
     "metadata": {},
     "output_type": "execute_result"
    }
   ],
   "source": [
    "# Datetime is from the same package as date\n",
    "from datetime import datetime\n",
    "\n",
    "now = datetime.today()\n",
    "\n",
    "now.microsecond"
   ]
  },
  {
   "cell_type": "markdown",
   "metadata": {
    "slideshow": {
     "slide_type": "slide"
    }
   },
   "source": [
    "## Methods for strings and lists\n",
    "\n",
    "There are many methods for strings, [see a list here](https://www.w3schools.com/python/python_ref_string.asp).\n",
    "\n",
    "For example, we can make strings upper or lower case.\n"
   ]
  },
  {
   "cell_type": "code",
   "execution_count": 14,
   "metadata": {},
   "outputs": [
    {
     "data": {
      "text/plain": [
       "'imma let you finish'"
      ]
     },
     "execution_count": 14,
     "metadata": {},
     "output_type": "execute_result"
    }
   ],
   "source": [
    "# Make a string all lower case\n",
    "'IMMA LET YOU FINISH'.lower()"
   ]
  },
  {
   "cell_type": "code",
   "execution_count": 15,
   "metadata": {},
   "outputs": [
    {
     "data": {
      "text/plain": [
       "'WAIT A SECOND'"
      ]
     },
     "execution_count": 15,
     "metadata": {},
     "output_type": "execute_result"
    }
   ],
   "source": [
    "# Make a string all upper case\n",
    "'wait a second'.upper()"
   ]
  },
  {
   "cell_type": "markdown",
   "metadata": {},
   "source": [
    "> **Check your understanding** What will the following code print out?"
   ]
  },
  {
   "cell_type": "code",
   "execution_count": 16,
   "metadata": {},
   "outputs": [
    {
     "data": {
      "text/plain": [
       "'Fix typing like this '"
      ]
     },
     "execution_count": 16,
     "metadata": {},
     "output_type": "execute_result"
    }
   ],
   "source": [
    "inputs = ['fIx', 'tYpiNg', 'lIkE', 'tHiS']\n",
    "output = ''\n",
    "\n",
    "for element in inputs:\n",
    "    output = output + element.lower() + ' '\n",
    "\n",
    "output.capitalize()"
   ]
  },
  {
   "cell_type": "markdown",
   "metadata": {},
   "source": [
    "We've already encountered several methods for lists, such as `append`. Another good one to know is `index`. [There are many list methods](https://www.w3schools.com/python/python_ref_list.asp)."
   ]
  },
  {
   "cell_type": "code",
   "execution_count": 17,
   "metadata": {},
   "outputs": [
    {
     "data": {
      "text/plain": [
       "\u001b[0;31mSignature:\u001b[0m \u001b[0mlist\u001b[0m\u001b[0;34m.\u001b[0m\u001b[0msort\u001b[0m\u001b[0;34m(\u001b[0m\u001b[0mself\u001b[0m\u001b[0;34m,\u001b[0m \u001b[0;34m/\u001b[0m\u001b[0;34m,\u001b[0m \u001b[0;34m*\u001b[0m\u001b[0;34m,\u001b[0m \u001b[0mkey\u001b[0m\u001b[0;34m=\u001b[0m\u001b[0;32mNone\u001b[0m\u001b[0;34m,\u001b[0m \u001b[0mreverse\u001b[0m\u001b[0;34m=\u001b[0m\u001b[0;32mFalse\u001b[0m\u001b[0;34m)\u001b[0m\u001b[0;34m\u001b[0m\u001b[0;34m\u001b[0m\u001b[0m\n",
       "\u001b[0;31mDocstring:\u001b[0m\n",
       "Sort the list in ascending order and return None.\n",
       "\n",
       "The sort is in-place (i.e. the list itself is modified) and stable (i.e. the\n",
       "order of two equal elements is maintained).\n",
       "\n",
       "If a key function is given, apply it once to each list item and sort them,\n",
       "ascending or descending, according to their function values.\n",
       "\n",
       "The reverse flag can be set to sort in descending order.\n",
       "\u001b[0;31mType:\u001b[0m      method_descriptor"
      ]
     },
     "metadata": {},
     "output_type": "display_data"
    }
   ],
   "source": [
    "list.sort?"
   ]
  },
  {
   "cell_type": "markdown",
   "metadata": {},
   "source": [
    "> **Check your understanding** What will the following code print out?"
   ]
  },
  {
   "cell_type": "code",
   "execution_count": 18,
   "metadata": {},
   "outputs": [
    {
     "data": {
      "text/plain": [
       "['d', 'c', 'b', 'a']"
      ]
     },
     "execution_count": 18,
     "metadata": {},
     "output_type": "execute_result"
    }
   ],
   "source": [
    "list_string = ['a', 'c', 'd', 'b']\n",
    "list_string.sort()\n",
    "list_string.reverse()\n",
    "list_string"
   ]
  },
  {
   "cell_type": "markdown",
   "metadata": {},
   "source": [
    "### Modified \"in place\" or not?\n",
    "**Note**: Some methods update the object directly (in place), whereas others return an updated version of the input."
   ]
  },
  {
   "cell_type": "code",
   "execution_count": 19,
   "metadata": {},
   "outputs": [
    {
     "name": "stdout",
     "output_type": "stream",
     "text": [
      "['c', 'b', 'a']\n"
     ]
    }
   ],
   "source": [
    "# Reverse a list is in place\n",
    "my_list = ['a', 'b', 'c']\n",
    "my_list.reverse()\n",
    "\n",
    "print(my_list)"
   ]
  },
  {
   "cell_type": "code",
   "execution_count": 21,
   "metadata": {},
   "outputs": [],
   "source": [
    "# Dictionary keys is not in place\n",
    "car_dict = {'brand': 'BMW', 'model': 'M5', 'year': 2019}\n",
    "\n",
    "# Return the keys in the dictionary\n",
    "out = car_dict.keys() "
   ]
  },
  {
   "cell_type": "code",
   "execution_count": 22,
   "metadata": {},
   "outputs": [
    {
     "name": "stdout",
     "output_type": "stream",
     "text": [
      "<class 'dict_keys'>\n",
      "dict_keys(['brand', 'model', 'year'])\n"
     ]
    }
   ],
   "source": [
    "# print keys\n",
    "print(type(out))\n",
    "print(out)"
   ]
  },
  {
   "cell_type": "code",
   "execution_count": 24,
   "metadata": {},
   "outputs": [
    {
     "name": "stdout",
     "output_type": "stream",
     "text": [
      "<class 'dict'>\n",
      "{'brand': 'BMW', 'model': 'M5', 'year': 2019}\n"
     ]
    }
   ],
   "source": [
    "# car has not changed\n",
    "print(type(car_dict))\n",
    "print(car_dict)"
   ]
  },
  {
   "cell_type": "markdown",
   "metadata": {
    "slideshow": {
     "slide_type": "slide"
    }
   },
   "source": [
    "<hr>\n",
    "\n",
    "## Classes\n",
    "\n",
    "**Date** above is a class that Python has already defined for us. As it turns out, we can define classes too! "
   ]
  },
  {
   "cell_type": "markdown",
   "metadata": {
    "slideshow": {
     "slide_type": "slide"
    }
   },
   "source": [
    "A class is defined almost like a function, but using the `class` keyword, and the class definition usually contains a number of class method definitions (a function in a class).\n",
    "* Each class method should have an argument `self` as its first argument. This object is a self-reference.\n",
    "* Some class method names have special meaning. For example, `__init__` is a method that is invoked when the object is first created.\n",
    "    * (Full list <a href=\"https://docs.python.org/2.0/ref/specialnames.html\">here</a>)\n",
    "    \n",
    "Let's create `Dog` as an example class."
   ]
  },
  {
   "cell_type": "code",
   "execution_count": 26,
   "metadata": {
    "slideshow": {
     "slide_type": "fragment"
    }
   },
   "outputs": [],
   "source": [
    "# Define a class with `class`. \n",
    "class Dog():\n",
    "    \n",
    "    # Class attributes for all Dogs\n",
    "    sound = 'Woof'\n",
    "\n",
    "    # Class methods for objects of type Dog\n",
    "    # Self is a special parameter that refers to the object\n",
    "    def speak(self):\n",
    "        print(self.sound)"
   ]
  },
  {
   "cell_type": "code",
   "execution_count": 28,
   "metadata": {
    "slideshow": {
     "slide_type": "slide"
    }
   },
   "outputs": [
    {
     "name": "stdout",
     "output_type": "stream",
     "text": [
      "Woof\n",
      "Grrr\n"
     ]
    }
   ],
   "source": [
    "# create an instance of Dog\n",
    "roger = Dog()\n",
    "\n",
    "# the Dog has a sound attribute\n",
    "roger.sound\n",
    "\n",
    "# the Dog has a speak method\n",
    "roger.speak()\n",
    "\n",
    "roger = Dog()\n",
    "roger.sound = 'Grrr'\n",
    "roger.speak()"
   ]
  },
  {
   "cell_type": "code",
   "execution_count": 29,
   "metadata": {
    "slideshow": {
     "slide_type": "slide"
    }
   },
   "outputs": [
    {
     "name": "stdout",
     "output_type": "stream",
     "text": [
      "Woof\n",
      "Woof\n",
      "Woof\n",
      "Woof\n",
      "Woof\n",
      "Woof\n",
      "Woof\n",
      "Woof\n",
      "Grrr\n"
     ]
    }
   ],
   "source": [
    "# Initialize a group of dogs\n",
    "pack_of_dogs = [Dog(), Dog(), Dog(), Dog()]\n",
    "\n",
    "for dog in pack_of_dogs:\n",
    "    dog.speak()\n",
    "\n",
    "pack_of_dogs = [Dog(), Dog(), Dog(), Dog(),roger]\n",
    "\n",
    "for dog in pack_of_dogs:\n",
    "    dog.speak()\n"
   ]
  },
  {
   "cell_type": "markdown",
   "metadata": {
    "slideshow": {
     "slide_type": "slide"
    }
   },
   "source": [
    "We can also create instance-specific attributes. Below, we've added an `init method` (the code below with `__init__`) which will create the attribute `name` whenever this class is initialized. This will allow each Dog instance to have its own name.\n",
    "\n",
    "**Note:** the order of methods and attributes does not matter, but it is conventional to have the init method first."
   ]
  },
  {
   "cell_type": "code",
   "execution_count": 37,
   "metadata": {
    "slideshow": {
     "slide_type": "slide"
    }
   },
   "outputs": [],
   "source": [
    "class Dog():\n",
    "    \n",
    "    sound = 'Woof'\n",
    "    \n",
    "    # Initializer, allows us to specificy instance-specific attributes\n",
    "    # leading and trailing double underscores indicates that this is special to Python\n",
    "    def __init__(self,name,age):\n",
    "        self.name = name\n",
    "        self.age  = age\n",
    "\n",
    "    def speak(self):\n",
    "        print(self.sound)"
   ]
  },
  {
   "cell_type": "code",
   "execution_count": 39,
   "metadata": {
    "slideshow": {
     "slide_type": "slide"
    }
   },
   "outputs": [
    {
     "name": "stdout",
     "output_type": "stream",
     "text": [
      "Roger\n"
     ]
    },
    {
     "ename": "TypeError",
     "evalue": "Dog.__init__() missing 1 required positional argument: 'age'",
     "output_type": "error",
     "traceback": [
      "\u001b[0;31m---------------------------------------------------------------------------\u001b[0m",
      "\u001b[0;31mTypeError\u001b[0m                                 Traceback (most recent call last)",
      "Cell \u001b[0;32mIn[39], line 6\u001b[0m\n\u001b[1;32m      3\u001b[0m my_dog \u001b[38;5;241m=\u001b[39m Dog(\u001b[38;5;124m'\u001b[39m\u001b[38;5;124mRoger\u001b[39m\u001b[38;5;124m'\u001b[39m,\u001b[38;5;241m12\u001b[39m)\n\u001b[1;32m      5\u001b[0m \u001b[38;5;28mprint\u001b[39m(my_dog\u001b[38;5;241m.\u001b[39mname)\n\u001b[0;32m----> 6\u001b[0m my_dog \u001b[38;5;241m=\u001b[39m \u001b[43mDog\u001b[49m\u001b[43m(\u001b[49m\u001b[38;5;124;43m'\u001b[39;49m\u001b[38;5;124;43mRoger\u001b[39;49m\u001b[38;5;124;43m'\u001b[39;49m\u001b[43m)\u001b[49m\n\u001b[1;32m      8\u001b[0m my_dog\u001b[38;5;241m.\u001b[39mspeak()\n",
      "\u001b[0;31mTypeError\u001b[0m: Dog.__init__() missing 1 required positional argument: 'age'"
     ]
    }
   ],
   "source": [
    "# Initialize a dog\n",
    "# what goes in the parentheses is defined in the __init__\n",
    "my_dog = Dog('Roger',12)\n",
    "\n",
    "print(my_dog.name)\n",
    "my_dog = Dog('Roger')\n",
    "\n",
    "my_dog.speak()"
   ]
  },
  {
   "cell_type": "markdown",
   "metadata": {
    "slideshow": {
     "slide_type": "fragment"
    }
   },
   "source": [
    "<div class=\"alert alert-success\">\n",
    "    <b>Task</b>: In the cell below, check the two attributes of our <code>my_dog</code> instance of the <code>Dog</code> class.</div>"
   ]
  },
  {
   "cell_type": "code",
   "execution_count": 32,
   "metadata": {
    "slideshow": {
     "slide_type": "fragment"
    }
   },
   "outputs": [
    {
     "name": "stdout",
     "output_type": "stream",
     "text": [
      "Roger\n"
     ]
    }
   ],
   "source": [
    "# Check attributes\n",
    "type(my_dog)\n",
    "print(my_dog.name)"
   ]
  },
  {
   "cell_type": "markdown",
   "metadata": {
    "slideshow": {
     "slide_type": "slide"
    }
   },
   "source": [
    "We can also define methods that take inputs. These methods are written as functions!\n",
    "\n",
    "Below, `speak` has been modified to be proportional to the number of squirrels."
   ]
  },
  {
   "cell_type": "code",
   "execution_count": 33,
   "metadata": {
    "slideshow": {
     "slide_type": "fragment"
    }
   },
   "outputs": [],
   "source": [
    "class Dog():\n",
    "    \n",
    "    # Class attributes for all Dogs\n",
    "    sound = 'Woof'\n",
    "    \n",
    "    # Initializer, allows us to specificy instance-specific attributes\n",
    "    # leading and trailing double underscores indicates that this is special to Python\n",
    "    def __init__(self,name):\n",
    "        self.name = name\n",
    "    \n",
    "    # Squirrels is a time series of # of squirrels, which our dog sums\n",
    "    def speak(self,squirrels):\n",
    "        self.barks = sum(squirrels)"
   ]
  },
  {
   "cell_type": "code",
   "execution_count": 35,
   "metadata": {
    "slideshow": {
     "slide_type": "slide"
    }
   },
   "outputs": [
    {
     "data": {
      "text/plain": [
       "14"
      ]
     },
     "execution_count": 35,
     "metadata": {},
     "output_type": "execute_result"
    }
   ],
   "source": [
    "# Try your dog here\n",
    "my_dog = Dog('Roger')\n",
    "my_dog.speak([1,12,1])\n",
    "my_dog.barks\n",
    "# my_dog = Dog('Roger')\n",
    "# my_dog.barks\n"
   ]
  },
  {
   "cell_type": "markdown",
   "metadata": {
    "slideshow": {
     "slide_type": "slide"
    }
   },
   "source": [
    "## Class Inheritance\n",
    "Classes can also inherit other classes! "
   ]
  },
  {
   "cell_type": "code",
   "execution_count": 44,
   "metadata": {
    "slideshow": {
     "slide_type": "slide"
    }
   },
   "outputs": [
    {
     "name": "stdout",
     "output_type": "stream",
     "text": [
      "This brain is large and is  folded.\n"
     ]
    }
   ],
   "source": [
    "# First we define a broad class, Brain:\n",
    "class Brain(): \n",
    "    \n",
    "    def __init__(self, size = None, folded = None):\n",
    "        self.size = size\n",
    "        self.folded = folded\n",
    "        \n",
    "    def print_info(self):\n",
    "        folded_string = ''\n",
    "        if not self.folded:\n",
    "            folded_string = 'not'\n",
    "        print('This brain is ' + self.size + ' and is ' + folded_string + ' folded.')\n",
    "        \n",
    "        \n",
    "my_brain = Brain(size='large',folded=True)\n",
    "\n",
    "my_brain.print_info()"
   ]
  },
  {
   "cell_type": "code",
   "execution_count": 45,
   "metadata": {
    "slideshow": {
     "slide_type": "slide"
    }
   },
   "outputs": [],
   "source": [
    "# Then, we can inherit an instance of Brain using this syntax: \n",
    "class SheepBrain(Brain):\n",
    "    \n",
    "    def __init__(self, size = 'medium', folded = False):\n",
    "        super().__init__(size, folded)\n",
    "        \n",
    "class HumanBrain(Brain):\n",
    "    def __init__(self, size = 'large', folded = True):\n",
    "        super().__init__(size, folded)"
   ]
  },
  {
   "cell_type": "markdown",
   "metadata": {
    "slideshow": {
     "slide_type": "slide"
    }
   },
   "source": [
    "What will the following cell print out?"
   ]
  },
  {
   "cell_type": "code",
   "execution_count": 46,
   "metadata": {
    "slideshow": {
     "slide_type": "fragment"
    }
   },
   "outputs": [
    {
     "name": "stdout",
     "output_type": "stream",
     "text": [
      "This brain is medium and is not folded.\n"
     ]
    },
    {
     "data": {
      "text/plain": [
       "False"
      ]
     },
     "execution_count": 46,
     "metadata": {},
     "output_type": "execute_result"
    }
   ],
   "source": [
    "sheep = SheepBrain()\n",
    "human = HumanBrain()\n",
    "sheep.print_info()\n",
    "human.folded and sheep.folded"
   ]
  },
  {
   "cell_type": "markdown",
   "metadata": {
    "slideshow": {
     "slide_type": "slide"
    }
   },
   "source": [
    "<div class=\"alert alert-success\">\n",
    "    <b>Task</b>: Create a <code>Neuron</code> class. First, pseudocode your class on the whiteboard, and <i>then</i> work on it in the cell below.\n",
    "    \n",
    "The neuron should have two attributes that are specific to each instance of it: `diameter` and `neuron_type`.\n",
    "    \n",
    "The neuron should also have a method, <code>spike</code> which adds a list of input values given to it, and is stored in the attribute <code>firing_rate</code>.\n",
    "\n",
    "In addition, give the neuron an attribute `spontaneous_firing_rate`, which is different for each neuron. Create an `integrate` method that adds adds an input to this spontaneous firing rate to update the `firing_rate` attribute.\n",
    "\n",
    "If you're feeling bold, create two different classes that inherit <code>Neuron</code>: excitatory and inhibitory. Then, create a population of neurons!</div>"
   ]
  },
  {
   "cell_type": "code",
   "execution_count": 61,
   "metadata": {
    "slideshow": {
     "slide_type": "fragment"
    }
   },
   "outputs": [
    {
     "name": "stdout",
     "output_type": "stream",
     "text": [
      "0.003\n",
      "None\n",
      "None\n",
      "Excitatory\n"
     ]
    },
    {
     "data": {
      "text/plain": [
       "430"
      ]
     },
     "execution_count": 61,
     "metadata": {},
     "output_type": "execute_result"
    }
   ],
   "source": [
    "class Neuron(): \n",
    "    \n",
    "    def __init__(self, diameter = None, neuron_type = None,spontaneous_firing_rate = 0):\n",
    "        self.diameter    = diameter\n",
    "        self.neuron_type = neuron_type\n",
    "        self.spontaneous_firing_rate = spontaneous_firing_rate\n",
    "\n",
    "    def spike(self,neuron_inputs):\n",
    "        self.firing_rate = sum(neuron_inputs)\n",
    "\n",
    "    def integrate(self,neuron_inputs):\n",
    "        self.spike(neuron_inputs)\n",
    "        self.firing_rate = self.firing_rate + self.spontaneous_firing_rate\n",
    "\n",
    "neuron_1 = Neuron(0.003)\n",
    "print(neuron_1.diameter)\n",
    "print(neuron_1.neuron_type)\n",
    "\n",
    "\n",
    "neuron_1 = Neuron(neuron_type = 'Excitatory',spontaneous_firing_rate=11)\n",
    "print(neuron_1.diameter)\n",
    "print(neuron_1.neuron_type)\n",
    "\n",
    "neuron_1.spike([1,33,344,41,0])\n",
    "neuron_1.firing_rate\n",
    "neuron_1.integrate([1,33,344,41,0])\n",
    "neuron_1.firing_rate\n"
   ]
  },
  {
   "cell_type": "markdown",
   "metadata": {
    "slideshow": {
     "slide_type": "slide"
    }
   },
   "source": [
    "## About this notebook\n",
    "This notebook is largely derived from [UCSD COGS18 Materials](https://cogs18.github.io/materials/12-Classes.html#objects), created by Tom Donoghue & Shannon Ellis. \n",
    "\n",
    "Want to run this notebook as a slideshow? If you have Python (or Anaconda) follow <a href=\"http://www.blog.pythonlibrary.org/2018/09/25/creating-presentations-with-jupyter-notebook/\">these instructions</a> to setup your computer with the RISE plugin."
   ]
  }
 ],
 "metadata": {
  "kernelspec": {
   "display_name": "Python 3 (ipykernel)",
   "language": "python",
   "name": "python3"
  },
  "language_info": {
   "codemirror_mode": {
    "name": "ipython",
    "version": 3
   },
   "file_extension": ".py",
   "mimetype": "text/x-python",
   "name": "python",
   "nbconvert_exporter": "python",
   "pygments_lexer": "ipython3",
   "version": "3.11.9"
  }
 },
 "nbformat": 4,
 "nbformat_minor": 4
}
