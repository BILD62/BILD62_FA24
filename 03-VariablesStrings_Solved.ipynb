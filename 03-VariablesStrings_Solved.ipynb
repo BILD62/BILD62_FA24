{
 "cells": [
  {
   "cell_type": "markdown",
   "metadata": {
    "slideshow": {
     "slide_type": "slide"
    }
   },
   "source": [
    "# Variables & Strings\n",
    "\n",
    "In this notebook, we'll encounter more basics of Python syntax, including creating and identifying different types of variables.\n",
    "\n",
    "\n",
    "### At the end of this notebook, you'll be able to:\n",
    "* Recognize three different **types** of variables: integers, floats, and strings\n",
    "* Slice and concatenate strings\n",
    "* Identify rules for naming variables\n",
    "* Create and manipulate **aliases**\n",
    "\n",
    "<hr>"
   ]
  },
  {
   "cell_type": "markdown",
   "metadata": {},
   "source": [
    "## Variables\n",
    "Reminder: Variables enable us to store a value and come back to it later. They are defined with `name = value`. *Assignment is not the same thing as equality,* as in mathematics.\n",
    "\n",
    "### Types of Variables\n",
    "Variables can be different types. Python lets you change the type of variables (the function is in parentheses below), however, *you cannot combine types*.\n",
    "\n",
    "* Integers (`int`) \n",
    "* String (`str`): letters, numbers, symbols, spaces\n",
    "* Float (`float`): any number with a decimal point (floating point number)\n",
    "\n",
    "You can check what type your variable is by using `type(variable)`.\n",
    "\n",
    "<b>Note</b>: If you ever need help using a function (e.g., `type`) in Jupyter Notebook, you can enter the function followed by a question mark or `help(function)`. For example, `type?` or `help(type)`. You can also check <a href=\"https://www.geeksforgeeks.org/python-type-function/\">the documentation</a>.\n",
    "\n",
    "<b>Reminder:</b> Jupyter will only show you the last line of code in your cell. If you'd like to see more lines, use `print()`.\n",
    "\n",
    "<div class=\"alert alert-success\"><b>Task:</b> In the cell below, assign <b>101</b> to <code>my_variable</code> and check the type of your variable.</div>"
   ]
  },
  {
   "cell_type": "code",
   "execution_count": 3,
   "metadata": {},
   "outputs": [
    {
     "data": {
      "text/plain": [
       "int"
      ]
     },
     "execution_count": 3,
     "metadata": {},
     "output_type": "execute_result"
    }
   ],
   "source": [
    "# Check the type of my_variable here\n",
    "my_variable = 101\n",
    "type(my_variable)"
   ]
  },
  {
   "cell_type": "markdown",
   "metadata": {},
   "source": [
    "Different operators in Python will produce different types of variables. \n",
    "\n",
    "<div class=\"alert alert-success\"><b>Task:</b> Compare the results of 12/2 and 12//2 by assigning the results of these operations to two different variables. Then, use the <code>int</code> and <code>float</code> functions to transform these variables into an integer and a float called: <code>result_int</code> and <code>result_float</code>.</div>\n",
    "\n",
    "*Hint*: You can wrap commands in other commands. For example, we could write `print(type(a))`."
   ]
  },
  {
   "cell_type": "code",
   "execution_count": 10,
   "metadata": {},
   "outputs": [
    {
     "name": "stdout",
     "output_type": "stream",
     "text": [
      "a= 2.0 a is type  <class 'float'>\n",
      "b= 2 b is type  <class 'int'>\n",
      "result_int= 2 result_int is type  <class 'int'>\n",
      "result_float= 2.0 result_float is type  <class 'float'>\n"
     ]
    }
   ],
   "source": [
    "# Write your code here\n",
    "a = 12/6\n",
    "b = 12//6\n",
    "print('a=',a,'a is type ',type(a))\n",
    "print('b=',b,'b is type ',type(b))\n",
    "result_int = int(a)\n",
    "result_float = float(a)\n",
    "print('result_int=',result_int,'result_int is type ',type(result_int))\n",
    "print('result_float=',result_float,'result_float is type ',type(result_float))\n"
   ]
  },
  {
   "cell_type": "markdown",
   "metadata": {},
   "source": [
    "<div class=\"alert alert-success\"><b>Task</b>: What happens when you add a float (result_float) and an integer (result_int)? Test below.</div>"
   ]
  },
  {
   "cell_type": "code",
   "execution_count": 11,
   "metadata": {},
   "outputs": [
    {
     "name": "stdout",
     "output_type": "stream",
     "text": [
      "<class 'float'>\n"
     ]
    }
   ],
   "source": [
    "# Add your float and int here\n",
    "result = result_float + result_int\n",
    "print(type(result))"
   ]
  },
  {
   "cell_type": "markdown",
   "metadata": {},
   "source": [
    "We can use the command `round( )` to round a float number to a whole number.\n",
    "\n",
    "<div class=\"alert alert-success\"><b>Task:</b> Try round with a float below, and print your result. What kind of variable does this create?</div>"
   ]
  },
  {
   "cell_type": "code",
   "execution_count": 16,
   "metadata": {},
   "outputs": [
    {
     "name": "stdout",
     "output_type": "stream",
     "text": [
      "<class 'int'>\n"
     ]
    }
   ],
   "source": [
    "# Write your code here\n",
    "result = round(result_float)\n",
    "print(type(result))"
   ]
  },
  {
   "cell_type": "markdown",
   "metadata": {},
   "source": [
    "### Working with Strings\n",
    "Strings are represented by matching beginning & ending quotation marks. A few useful notes:\n",
    "\n",
    "* Quotation marks can be single (`'`) or double (`\"`); use single within double (we'll stick to single, most of the time)\n",
    "    * One single quotation mark within a pair of double quotation marks will be interpreted as an apostrophe (a single quotation mark).\n",
    "* Use `\\` to keep single or double quotation mark, instead of reading it as a string (e.g., for a quote or an apostrophe)\n",
    "\n",
    "Let's see how this works with some familiar looking strings -- DNA! Below, we'll assign a string of nucleotides to the variable `my_dna`."
   ]
  },
  {
   "cell_type": "code",
   "execution_count": 18,
   "metadata": {},
   "outputs": [],
   "source": [
    "my_dna = 'AATGCCGTGCTT'"
   ]
  },
  {
   "cell_type": "markdown",
   "metadata": {},
   "source": [
    "#### Indexing and slicing strings\n",
    "We can **index** or **slice** strings using bracket notation. For example, if you want to take the first codon from this list, you could do the following:"
   ]
  },
  {
   "cell_type": "code",
   "execution_count": 26,
   "metadata": {},
   "outputs": [
    {
     "name": "stdout",
     "output_type": "stream",
     "text": [
      "AAT\n",
      "GTG\n"
     ]
    }
   ],
   "source": [
    "# Write your code here\n",
    "codon_1 = my_dna[0:3]\n",
    "print(codon_1)\n",
    "k = 3\n",
    "codon_k = my_dna[((k-1)*3):(k*3)]\n",
    "print(codon_k)"
   ]
  },
  {
   "cell_type": "markdown",
   "metadata": {},
   "source": [
    "Notice the notation here -- we're starting at index 0, and going *until* but not including index 3. We can also use negative indices to index and slice. The image below gives you a visual depiction of the index for each character.\n",
    "\n",
    "> Use the cell above to test different indices and slices.\n",
    "\n",
    "![](http://www.nltk.org/images/string-slicing.png)"
   ]
  },
  {
   "cell_type": "markdown",
   "metadata": {},
   "source": [
    "#### Concatenating strings\n",
    "\n",
    "You can concatenate strings (either as variables or by themselves) with `+`.\n",
    "\n",
    "<div class=\"alert alert-success\"><b>Task</b>: There is a species of jellyfish called 'Bazinga rieki' and a species of orchid bee called 'Euglossa bazinga'. How can we use slicing and concetenation to remix these names to get a species called 'Bazinga bazinga'? <b>Complete the line of code that says <code>new_jellybee = ... </code> and include this line on your notebook.</div> "
   ]
  },
  {
   "cell_type": "code",
   "execution_count": 48,
   "metadata": {},
   "outputs": [
    {
     "name": "stdout",
     "output_type": "stream",
     "text": [
      "Bazinga bazinga\n",
      "Euglossa rieki\n"
     ]
    }
   ],
   "source": [
    "jellyfish = 'Bazinga rieki'\n",
    "orchidbee = 'Euglossa bazinga'\n",
    "new_jellybee = jellyfish[:7] + ' ' + orchidbee[-7:]\n",
    "new_orchidfish = orchidbee[:8] + ' ' + jellyfish[-5:]\n",
    "print(new_jellybee)\n",
    "print(new_orchidfish)"
   ]
  },
  {
   "cell_type": "markdown",
   "metadata": {},
   "source": [
    "<div class=\"alert alert-success\"><b>Task:</b> You have two dogs, Lassie and Sir Reginald the IV. Create <b>three different</b> strings that will enable you to flexibly introduce either of your dogs to strangers, saying \"This is ___dog_variable___\" Your code should enable you to swap in and out dog names.</div>"
   ]
  },
  {
   "cell_type": "code",
   "execution_count": 53,
   "metadata": {},
   "outputs": [
    {
     "name": "stdout",
     "output_type": "stream",
     "text": [
      "This is Lassie\n",
      "This is Reginald the IV\n"
     ]
    }
   ],
   "source": [
    "# Create your dog strings here\n",
    "name_1 = 'Lassie'\n",
    "name_2 = 'Reginald the IV'\n",
    "intro  = 'This is'\n",
    "print(intro,name_2)\n",
    "print(intro+' '+name_1)"
   ]
  },
  {
   "cell_type": "markdown",
   "metadata": {},
   "source": [
    "Remember: we can use the `print` function to show more than one variable, as well as variables of different types. You can separate items within `print` by commas to print multiple variables, e.g. `print(a,b,\"name\")`.\n",
    "\n",
    "<div class=\"alert alert-success\"><b>Task:</b> Create a variable 'age' that is the age of Lassie. Change your strings above so that you can produce \"This is ______! He's __(age)__.\" and print the result.</div>\n",
    "\n",
    "<div class=\"alert alert-success\"><b>Task</b>: While completing the above, you might receive an error that says \"TypeError: can only concatenate str (not \"int\") to str\". Why would you get this error, and how can you correct it?</div>"
   ]
  },
  {
   "cell_type": "code",
   "execution_count": 56,
   "metadata": {},
   "outputs": [
    {
     "name": "stdout",
     "output_type": "stream",
     "text": [
      "This is Lassie ! He's 18\n",
      "This is Lassie ! He's 18\n"
     ]
    }
   ],
   "source": [
    "# Write your code here\n",
    "age = 18\n",
    "print(intro,name_1,'! He\\'s',age)\n",
    "print(intro,name_1,'! He\\'s '+str(age))"
   ]
  },
  {
   "cell_type": "markdown",
   "metadata": {},
   "source": [
    "Jupyter also has \n",
    "<a href=\"https://en.wikipedia.org/wiki/Command-line_completion\" class=\"alert-link\"><b>tab complete</b></a>\n",
    "capacities, which can autocomplete what you are typing, and/or be used to explore what code is available. This is useful, for example, if you have a long string variable.\n",
    "\n",
    "\n",
    "<div class=\"alert alert-success\"><b>Task: </b>Use autocomplete to write the name of one of your variables above.</div>"
   ]
  },
  {
   "cell_type": "code",
   "execution_count": 57,
   "metadata": {},
   "outputs": [
    {
     "name": "stdout",
     "output_type": "stream",
     "text": [
      "This is Reginald the IV ! He's 18\n"
     ]
    }
   ],
   "source": [
    "# Move your cursor to the end of the line, press tab, and a drop menu will appear showing all possible completions\n",
    "# If there is only one option, tab-complete will auto-complete what you are typing\n",
    "\n",
    "print(intro,name_2,'! He\\'s '+str(age))"
   ]
  },
  {
   "cell_type": "markdown",
   "metadata": {},
   "source": [
    "As we're working through this notebook, the kernel also stores your **namespace** - all the variables and code that you have declared (executed). You can check which variables and functions are available with the command `%who`, or `%whos` (for more detailed information).\n",
    "\n",
    "<div class=\"alert alert-success\"><b>Task: </b>Use the who(s) command to check your variables below.</div>"
   ]
  },
  {
   "cell_type": "code",
   "execution_count": 60,
   "metadata": {},
   "outputs": [
    {
     "name": "stdout",
     "output_type": "stream",
     "text": [
      "Variable         Type      Data/Info\n",
      "------------------------------------\n",
      "a                float     2.0\n",
      "age              int       18\n",
      "b                int       2\n",
      "codon_1          str       AAT\n",
      "codon_k          str       GTG\n",
      "intro            str       This is\n",
      "jellyfish        str       Bazinga rieki\n",
      "k                int       3\n",
      "my_dna           str       AATGCCGTGCTT\n",
      "my_variable      int       101\n",
      "name_1           str       Lassie\n",
      "name_2           str       Reginald the IV\n",
      "new_jellybee     str       Bazinga bazinga\n",
      "new_orchidfish   str       Euglossa rieki\n",
      "np               module    <module 'numpy' from '/op<...>kages/numpy/__init__.py'>\n",
      "orchidbee        str       Euglossa bazinga\n",
      "result           int       2\n",
      "result2          int       2\n",
      "result_float     float     2.0\n",
      "result_int       int       2\n",
      "a\t age\t b\t codon_1\t codon_k\t intro\t jellyfish\t k\t my_dna\t \n",
      "my_variable\t name_1\t name_2\t new_jellybee\t new_orchidfish\t np\t orchidbee\t result\t result2\t \n",
      "result_float\t result_int\t \n"
     ]
    }
   ],
   "source": [
    "%whos\n",
    "%who"
   ]
  },
  {
   "cell_type": "markdown",
   "metadata": {},
   "source": [
    "## Declaring Variables Cheat Sheet\n",
    "Not *every* word or combination of words and numbers can be a variable name. For example, Python has a list of <b>reserved keywords</b> that cannot be variable names:\n",
    "\n",
    "<table type=\"text/css\">\n",
    "  <tr>\n",
    "      <td><code>False</code></td>\n",
    "      <td><code>None</code></td>\n",
    "      <td><code>True</code></td>\n",
    "      <td><code>and</code></td>\n",
    "      <td><code>as</code></td>\n",
    "      <td><code>assert</code></td>\n",
    "      <td><code>break</code></td>\n",
    "  </tr>\n",
    "  <tr>\n",
    "      <td><code>class</code></td>\n",
    "      <td><code>continue</code></td>\n",
    "      <td><code>def</code></td>\n",
    "      <td><code>del</code></td>\n",
    "      <td><code>elif</code></td>\n",
    "      <td><code>else</code></td>\n",
    "      <td><code>except</code></td>\n",
    "  </tr>\n",
    "  <tr>\n",
    "      <td><code>finally</code></td>\n",
    "      <td><code>for</code></td>\n",
    "      <td><code>from</code></td>\n",
    "      <td><code>global</code></td>\n",
    "      <td><code>if</code></td>\n",
    "      <td><code>import</code></td>\n",
    "      <td><code>in</code></td>\n",
    "  </tr>\n",
    "  <tr>\n",
    "      <td><code>is</code></td>\n",
    "      <td><code>lambda</code></td>\n",
    "      <td><code>nonlocal</code></td>\n",
    "      <td><code>not</code></td>\n",
    "      <td><code>or</code></td>\n",
    "      <td><code>pass</code></td>\n",
    "      <td><code>raise</code></td>\n",
    "  </tr>    \n",
    "  <tr>\n",
    "      <td><code>return</code></td>\n",
    "      <td><code>try</code></td>\n",
    "      <td><code>while</code></td>\n",
    "      <td><code>with</code></td>\n",
    "      <td><code>yield</code></td>\n",
    "  </tr>    \n",
    "</table>"
   ]
  },
  {
   "cell_type": "markdown",
   "metadata": {},
   "source": [
    "<div class=\"alert alert-success\"><b>Task:</b> Attempt to create a variables with three different reserved words above. Observe what error you receive.</div>"
   ]
  },
  {
   "cell_type": "code",
   "execution_count": 5,
   "metadata": {},
   "outputs": [
    {
     "ename": "SyntaxError",
     "evalue": "invalid syntax (3504727721.py, line 2)",
     "output_type": "error",
     "traceback": [
      "\u001b[0;36m  Cell \u001b[0;32mIn[5], line 2\u001b[0;36m\u001b[0m\n\u001b[0;31m    not = 41\u001b[0m\n\u001b[0m        ^\u001b[0m\n\u001b[0;31mSyntaxError\u001b[0m\u001b[0;31m:\u001b[0m invalid syntax\n"
     ]
    }
   ],
   "source": [
    "# for = 4\n",
    "not = 41"
   ]
  },
  {
   "cell_type": "markdown",
   "metadata": {
    "slideshow": {
     "slide_type": "subslide"
    }
   },
   "source": [
    "<div class=\"alert alert-success\"><b>Task</b>: Instead of simply giving you the other rules for creating variables, use trial and error figure out what works and what doesn't. Are variables case-sensitive? Do numbers and symbols (e.g., %, ^, -) work, and if so, where? Identify <b>three</b> rules about variables and write these on your notebook.</div>"
   ]
  },
  {
   "cell_type": "code",
   "execution_count": 12,
   "metadata": {},
   "outputs": [
    {
     "ename": "SyntaxError",
     "evalue": "cannot assign to expression here. Maybe you meant '==' instead of '='? (3313199540.py, line 3)",
     "output_type": "error",
     "traceback": [
      "\u001b[0;36m  Cell \u001b[0;32mIn[12], line 3\u001b[0;36m\u001b[0m\n\u001b[0;31m    f%f = 1\u001b[0m\n\u001b[0m    ^\u001b[0m\n\u001b[0;31mSyntaxError\u001b[0m\u001b[0;31m:\u001b[0m cannot assign to expression here. Maybe you meant '==' instead of '='?\n"
     ]
    }
   ],
   "source": [
    "# f_f = 3\n",
    "# f*f = 4\n",
    "f%f = 1"
   ]
  },
  {
   "cell_type": "markdown",
   "metadata": {},
   "source": [
    "**Note**: There are hard and fast rules about variable names you *definitely* can't use, and then there are conventions. As you may have noticed, we'll primarily be naming variables with lowercase words separated by an underscore. This is the most readable, and is what is recommend by the official Python style guide."
   ]
  },
  {
   "cell_type": "markdown",
   "metadata": {},
   "source": [
    "# About this notebook\n",
    "* This notebook is largely derived from UCSD COGS18 Materials, created by Tom Donoghue & Shannon Ellis, as well as [CS5 Green](https://www.cs.hmc.edu/twiki/bin/view/CS5Green) at Harvey Mudd.\n",
    "\n",
    "* For additonal useful information, check out Jupyter Notebooks \n",
    "<a href=\"https://www.dataquest.io/blog/jupyter-notebook-tips-tricks-shortcuts/\" class=\"alert-link\">tips & tricks</a>."
   ]
  }
 ],
 "metadata": {
  "kernelspec": {
   "display_name": "Python 3 (ipykernel)",
   "language": "python",
   "name": "python3"
  },
  "language_info": {
   "codemirror_mode": {
    "name": "ipython",
    "version": 3
   },
   "file_extension": ".py",
   "mimetype": "text/x-python",
   "name": "python",
   "nbconvert_exporter": "python",
   "pygments_lexer": "ipython3",
   "version": "3.11.9"
  },
  "rise": {
   "theme": "serif"
  }
 },
 "nbformat": 4,
 "nbformat_minor": 4
}
