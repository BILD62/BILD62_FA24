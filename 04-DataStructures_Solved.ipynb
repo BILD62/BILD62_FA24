{
 "cells": [
  {
   "cell_type": "markdown",
   "metadata": {
    "slideshow": {
     "slide_type": "slide"
    }
   },
   "source": [
    "# Data Structures\n",
    "\n",
    "In this notebook, we'll explore different types of data structures that Python can use to store information, namely **lists, tuples, and dictionaries.**"
   ]
  },
  {
   "cell_type": "markdown",
   "metadata": {
    "slideshow": {
     "slide_type": "slide"
    }
   },
   "source": [
    "\n",
    "## At the end of this notebook, you'll be able to:\n",
    "* Compare & contrast the types of structures that Python uses to store data points\n",
    "* Recognize & create lists, tuples, and dictionaries in Python\n",
    "* Index, slice, cast, and mutate lists\n",
    "* Understand the implications of mutability and object-oriented programming\n",
    "\n",
    "<hr>"
   ]
  },
  {
   "cell_type": "markdown",
   "metadata": {
    "slideshow": {
     "slide_type": "slide"
    }
   },
   "source": [
    "## Lists\n",
    "A _list_ is a mutable collection of ordered items, that can be of mixed type.\n",
    "\n",
    "**Mutable** means that individual items in the object can be changed. Lists are mutable. Tuples and strings are not -- they're **immutable**.\n",
    "\n",
    "Lists are created using square brackets `[ ]`, and individual elements are separated by commas."
   ]
  },
  {
   "cell_type": "code",
   "execution_count": 2,
   "metadata": {
    "scrolled": true,
    "slideshow": {
     "slide_type": "fragment"
    }
   },
   "outputs": [
    {
     "name": "stdout",
     "output_type": "stream",
     "text": [
      "['Avocado', 'Tomato', 'Orange', 'Fig']\n"
     ]
    }
   ],
   "source": [
    "# Create a list of fruits\n",
    "my_list = ['Avocado','Tomato','Orange','Fig']\n",
    "print(my_list)"
   ]
  },
  {
   "cell_type": "markdown",
   "metadata": {
    "slideshow": {
     "slide_type": "slide"
    }
   },
   "source": [
    "### Useful list methods\n",
    "- Check the length of your list by using `len(my_list)`\n",
    "- Use `my_list.append()` to add elements to a list\n",
    "- Remove elements by index using `del my_list[index]`\n",
    "- Remove elements by value by using `my_list.remove('value')`\n",
    "- Sort by using `my_list.sort()`"
   ]
  },
  {
   "cell_type": "code",
   "execution_count": 3,
   "metadata": {
    "scrolled": true,
    "slideshow": {
     "slide_type": "fragment"
    }
   },
   "outputs": [
    {
     "name": "stdout",
     "output_type": "stream",
     "text": [
      "4\n",
      "['Avocado', 'Tomato', 'Orange', 'Fig', 'Lemon']\n",
      "['Avocado', 'Tomato', 'Orange', 'Fig']\n",
      "['Avocado', 'Tomato', 'Orange', 'Fig', 'Lemon', 'Lemon', 'Lemon', 'Lemon']\n",
      "['Avocado', 'Tomato', 'Orange', 'Fig']\n",
      "['Avocado', 'Tomato', 'Orange', 'Fig', 'G', 'r', 'a', 'p', 'e', 'f', 'r', 'u', 'i', 't']\n",
      "['Avocado', 'Tomato', 'Orange', 'Fig']\n",
      "['Avocado', 'Tomato', 'Orange', 'Fig', 'O', 'r', 'a', 'n', 'g', 'e']\n",
      "['Avocado', 'Tomato', 'Dragon fruit', 'Orange', 'Fig', 'O', 'r', 'a', 'n', 'g', 'e', 'Dragon fruit']\n",
      "['Avocado', 'Tomato', 'Orange', 'Fig']\n"
     ]
    }
   ],
   "source": [
    "# Try different list methods here\n",
    "print(len(my_list))\n",
    "my_list.append('Lemon')\n",
    "print(my_list)\n",
    "del my_list[4:]\n",
    "print(my_list)\n",
    "\n",
    "my_list.append('Lemon')\n",
    "my_list.append('Lemon')\n",
    "my_list.append('Lemon')\n",
    "my_list.append('Lemon')\n",
    "print(my_list)\n",
    "my_list.remove('Lemon')\n",
    "my_list.remove('Lemon')\n",
    "my_list.remove('Lemon')\n",
    "my_list.remove('Lemon')\n",
    "print(my_list)\n",
    "my_list.count('Lemon')\n",
    "\n",
    "my_list.index('Tomato')\n",
    "\n",
    "my_list.extend('Grapefruit')\n",
    "print(my_list)\n",
    "del my_list[4:]\n",
    "print(my_list)\n",
    "my_list.extend(my_list[2])\n",
    "print(my_list)\n",
    "\n",
    "\n",
    "my_list.insert(2,'Dragon fruit')\n",
    "my_list.insert(1424,'Dragon fruit')\n",
    "print(my_list)\n",
    "\n",
    "my_list = ['Avocado','Tomato','Orange','Fig']\n",
    "print(my_list)\n"
   ]
  },
  {
   "cell_type": "markdown",
   "metadata": {
    "slideshow": {
     "slide_type": "slide"
    }
   },
   "source": [
    "### List indexing & slicing\n",
    "**Indexing** refers to selecting an item from within a collection (e.g., lists, tuples, and strings). Indexing is done by placing the **index number** in square brackets, directly after the list variable.\n",
    "\n",
    "For example, if `my_list = [1,3,5]`, we can get the second value using `my_list[1]`. (Remember that Python starts indexing at zero!)"
   ]
  },
  {
   "cell_type": "markdown",
   "metadata": {
    "slideshow": {
     "slide_type": "slide"
    }
   },
   "source": [
    "### Reminders\n",
    "- Python is zero-based (The first index is '0')\n",
    "- Negative indices index backwards through a collection"
   ]
  },
  {
   "cell_type": "code",
   "execution_count": 4,
   "metadata": {
    "scrolled": true,
    "slideshow": {
     "slide_type": "slide"
    }
   },
   "outputs": [
    {
     "name": "stdout",
     "output_type": "stream",
     "text": [
      "Tomato\n",
      "Orange\n",
      "Orange\n"
     ]
    },
    {
     "ename": "TypeError",
     "evalue": "list indices must be integers or slices, not float",
     "output_type": "error",
     "traceback": [
      "\u001b[0;31m---------------------------------------------------------------------------\u001b[0m",
      "\u001b[0;31mTypeError\u001b[0m                                 Traceback (most recent call last)",
      "Cell \u001b[0;32mIn[4], line 8\u001b[0m\n\u001b[1;32m      6\u001b[0m \u001b[38;5;28mprint\u001b[39m(my_list[a\u001b[38;5;241m*\u001b[39m\u001b[38;5;241m*\u001b[39m\u001b[38;5;241m2\u001b[39m\u001b[38;5;241m-\u001b[39m\u001b[38;5;241m3\u001b[39m])\n\u001b[1;32m      7\u001b[0m \u001b[38;5;28mprint\u001b[39m(my_list[\u001b[38;5;241m1\u001b[39m])\n\u001b[0;32m----> 8\u001b[0m \u001b[38;5;28mprint\u001b[39m(\u001b[43mmy_list\u001b[49m\u001b[43m[\u001b[49m\u001b[38;5;241;43m1.0\u001b[39;49m\u001b[43m]\u001b[49m)\n",
      "\u001b[0;31mTypeError\u001b[0m: list indices must be integers or slices, not float"
     ]
    }
   ],
   "source": [
    "# Try indexing our list of fruits here\n",
    "my_list = ['Tomato','Orange','Fig']\n",
    "\n",
    "print(my_list[my_list.index('Tomato')])\n",
    "a = 2\n",
    "print(my_list[a**2-3])\n",
    "print(my_list[1])\n",
    "print(my_list[1.0])\n"
   ]
  },
  {
   "cell_type": "markdown",
   "metadata": {
    "slideshow": {
     "slide_type": "slide"
    }
   },
   "source": [
    "### If we want multiple items, we can **slice** the list.\n",
    "\n",
    "There are a few ways to slice:\n",
    "\n",
    "1. We can **slice** a part of a list using the syntax `[start:stop]`, which extracts characters between index start and stop (-1).\n",
    "\n",
    "**Notes**\n",
    "- `start` is __included__ then every element __until__ `stop` is included.\n",
    "- Negative values count backwards through the list."
   ]
  },
  {
   "cell_type": "markdown",
   "metadata": {
    "slideshow": {
     "slide_type": "slide"
    }
   },
   "source": [
    "2. If we omit either (or both) of start or stop from `[start:stop]`, the default is the beginning and the end of the string, respectively, e.g. `[:3]`\n",
    "3. We can also define the step size (instead of default 1) using the syntax `[start:stop:step]`"
   ]
  },
  {
   "cell_type": "markdown",
   "metadata": {
    "slideshow": {
     "slide_type": "slide"
    }
   },
   "source": [
    "<div class=\"alert alert-success\"><b>Task:</b> For our list of fruits, create three different slices, and save them as different variables:\n",
    "    \n",
    "1. A slice of the first two fruits.\n",
    "2. A slice of the middle three fruits.\n",
    "3. A slice of the last fruit.\n",
    "    \n",
    "</div>"
   ]
  },
  {
   "cell_type": "code",
   "execution_count": 5,
   "metadata": {
    "scrolled": true,
    "slideshow": {
     "slide_type": "fragment"
    }
   },
   "outputs": [
    {
     "name": "stdout",
     "output_type": "stream",
     "text": [
      "['Avocado', 'Tomato']\n",
      "['Dragon fruit', 'Orange', 'Orange']\n",
      "Orange\n"
     ]
    }
   ],
   "source": [
    "# Your code here!\n",
    "my_list = ['Avocado', 'Tomato', 'Dragon fruit', 'Orange', 'Orange','Orange']\n",
    "my_list_start  = my_list[0:2]\n",
    "my_list_middle  = my_list[2:5]\n",
    "my_list_end  = my_list[-1]\n",
    "\n",
    "print(my_list_start)\n",
    "print(my_list_middle)\n",
    "print(my_list_end)\n",
    "\n"
   ]
  },
  {
   "cell_type": "markdown",
   "metadata": {
    "slideshow": {
     "slide_type": "slide"
    }
   },
   "source": [
    "### Checking length\n",
    "We can use the function `len( )` to check the length of lists.\n",
    "\n",
    "**Note**: We can also use this to get the number of characters in a string!"
   ]
  },
  {
   "cell_type": "code",
   "execution_count": 6,
   "metadata": {},
   "outputs": [
    {
     "name": "stdout",
     "output_type": "stream",
     "text": [
      "Orange\n",
      "Orange\n"
     ]
    }
   ],
   "source": [
    "my_list_end  = my_list[-1]\n",
    "my_list_end_alt = my_list[len(my_list)-1]\n",
    "print(my_list_end)\n",
    "print(my_list_end_alt)"
   ]
  },
  {
   "cell_type": "markdown",
   "metadata": {
    "slideshow": {
     "slide_type": "slide"
    }
   },
   "source": [
    "### Checking membership\n",
    "We can use `in` to see if an item exists in a list. The `in` operator checks whether an element is present in a collection, and can be negated with `not`. _(More on operators in the next lecture)_"
   ]
  },
  {
   "cell_type": "code",
   "execution_count": 7,
   "metadata": {
    "scrolled": true,
    "slideshow": {
     "slide_type": "fragment"
    }
   },
   "outputs": [
    {
     "name": "stdout",
     "output_type": "stream",
     "text": [
      "True\n",
      "False\n",
      "False\n"
     ]
    }
   ],
   "source": [
    "print('Orange' in my_list)\n",
    "print('orange' in my_list)\n",
    "print('Oranges' in my_list)\n"
   ]
  },
  {
   "cell_type": "markdown",
   "metadata": {
    "slideshow": {
     "slide_type": "slide"
    }
   },
   "source": [
    "### Mutating lists\n",
    "After definition, we can update members of our list _because lists are mutable!_ This also impacts aliases of our lists."
   ]
  },
  {
   "cell_type": "code",
   "execution_count": 8,
   "metadata": {
    "scrolled": true,
    "slideshow": {
     "slide_type": "fragment"
    }
   },
   "outputs": [
    {
     "name": "stdout",
     "output_type": "stream",
     "text": [
      "['a', 'b', 'c', 'd']\n",
      "['a', 'b', 'c', 'z']\n",
      "['a', 'b', 'c', 'z']\n",
      "['a', 'b', 'y', 'z']\n",
      "['a', 'b', 'y', 'z']\n",
      "['a', 'b', 'cdef', 'ghijk', 'lmnop']\n",
      "['a', 'b', 'cdef', 'ghijk', 'lmnop']\n",
      "['a', ['xyz', 'xyz', 'xyz'], 'cdef', 'ghijk', 'lmnop']\n",
      "['a', ['xyz', 'xyz', 'xyz'], 'cdef', 'ghijk', 'lmnop']\n"
     ]
    }
   ],
   "source": [
    "my_list = list('abcd')\n",
    "print(my_list)\n",
    "my_list_alias = my_list\n",
    "my_list[-1] = 'z'\n",
    "print(my_list)\n",
    "print(my_list_alias)\n",
    "\n",
    "my_list_alias[-2] = 'y'\n",
    "print(my_list)\n",
    "print(my_list_alias)\n",
    "\n",
    "my_list[-2:] = ['cdef','ghijk','lmnop']\n",
    "print(my_list)\n",
    "print(my_list_alias)\n",
    "\n",
    "my_list[1] = ['xyz','xyz','xyz']\n",
    "print(my_list)\n",
    "print(my_list_alias)"
   ]
  },
  {
   "cell_type": "markdown",
   "metadata": {
    "slideshow": {
     "slide_type": "slide"
    }
   },
   "source": [
    "### Creating lists of lists\n",
    "Sometimes, it's useful to create lists of lists. Often, if we import big datasets as lists, this is how it will be organized.\n",
    "\n",
    "![](https://media.giphy.com/media/z1meXneq0oUh2/giphy.gif)"
   ]
  },
  {
   "cell_type": "code",
   "execution_count": 9,
   "metadata": {
    "scrolled": true,
    "slideshow": {
     "slide_type": "slide"
    }
   },
   "outputs": [
    {
     "name": "stdout",
     "output_type": "stream",
     "text": [
      "['gene1', 0.48, 0.55]\n"
     ]
    }
   ],
   "source": [
    "gene_1 = ['gene1',0.48,0.55]\n",
    "gene_2 = ['gene2',0.38,0.85]\n",
    "gene_3 = ['gene3',0.21,0.81]\n",
    "all_genes = [gene_1, gene_2, gene_3]\n",
    "\n",
    "# We can use this syntax to get a specific value\n",
    "print(all_genes[0])"
   ]
  },
  {
   "cell_type": "markdown",
   "metadata": {
    "slideshow": {
     "slide_type": "slide"
    }
   },
   "source": [
    "## Tuples\n",
    "A _tuple_ is an **immutable** collection of ordered items, that can be of mixed type.\n",
    "\n",
    "* Tuples are created using parentheses.\n",
    "* Indexing works similar to lists."
   ]
  },
  {
   "cell_type": "code",
   "execution_count": 10,
   "metadata": {
    "scrolled": true,
    "slideshow": {
     "slide_type": "fragment"
    }
   },
   "outputs": [
    {
     "name": "stdout",
     "output_type": "stream",
     "text": [
      "('a', 'b', 'c', 'd', 'e', 'f')\n",
      "('ab', 'c', 'def')\n"
     ]
    },
    {
     "ename": "TypeError",
     "evalue": "'tuple' object does not support item assignment",
     "output_type": "error",
     "traceback": [
      "\u001b[0;31m---------------------------------------------------------------------------\u001b[0m",
      "\u001b[0;31mTypeError\u001b[0m                                 Traceback (most recent call last)",
      "Cell \u001b[0;32mIn[10], line 7\u001b[0m\n\u001b[1;32m      5\u001b[0m \u001b[38;5;28mprint\u001b[39m(tup_1)\n\u001b[1;32m      6\u001b[0m \u001b[38;5;28mprint\u001b[39m(tup_2)\n\u001b[0;32m----> 7\u001b[0m \u001b[43mtup_1\u001b[49m\u001b[43m[\u001b[49m\u001b[38;5;241;43m-\u001b[39;49m\u001b[38;5;241;43m1\u001b[39;49m\u001b[43m]\u001b[49m \u001b[38;5;241m=\u001b[39m tup_2[\u001b[38;5;241m0\u001b[39m]\n",
      "\u001b[0;31mTypeError\u001b[0m: 'tuple' object does not support item assignment"
     ]
    }
   ],
   "source": [
    "# Define a tuple\n",
    "tup_1 = tuple('abcdef')\n",
    "tup_2 = ('ab','c','def')\n",
    "\n",
    "print(tup_1)\n",
    "print(tup_2)\n",
    "tup_1[-1] = tup_2[0]\n"
   ]
  },
  {
   "cell_type": "markdown",
   "metadata": {
    "slideshow": {
     "slide_type": "slide"
    }
   },
   "source": [
    "<div class=\"alert alert-success\"><b>Question</b>: Before running the cell below, try to predict: What will be printed out from running this code?</div>"
   ]
  },
  {
   "cell_type": "code",
   "execution_count": 11,
   "metadata": {
    "scrolled": true,
    "slideshow": {
     "slide_type": "fragment"
    }
   },
   "outputs": [
    {
     "name": "stdout",
     "output_type": "stream",
     "text": [
      "Overlap\n"
     ]
    }
   ],
   "source": [
    "lst = ['a', 'b', 'c']\n",
    "tup = ('b', 'c', 'd')\n",
    "\n",
    "if lst[-1] == tup[-1]:\n",
    "    print('EndMatch')\n",
    "elif tup[1] in lst:\n",
    "    print('Overlap')\n",
    "elif len(lst) == tup:\n",
    "    print('Length')\n",
    "else:\n",
    "    print('None')"
   ]
  },
  {
   "cell_type": "markdown",
   "metadata": {
    "slideshow": {
     "slide_type": "slide"
    }
   },
   "source": [
    "### Casting between variable types\n",
    "We can use `list( )` or `tuple( )` to convert variables into different types. This is called **casting**.\n",
    "\n",
    "This is particularly useful when we use an operator like `range( )` which generates a range, but in the form of an **iterator**."
   ]
  },
  {
   "cell_type": "markdown",
   "metadata": {
    "slideshow": {
     "slide_type": "slide"
    }
   },
   "source": [
    "**Note**: `range`, like indexing, is defined with `start`,`stop`, and `step`, but commas in between each. Remember that you can always use `?range` or `help(range)` to get details on how a function works. "
   ]
  },
  {
   "cell_type": "code",
   "execution_count": 12,
   "metadata": {
    "scrolled": true,
    "slideshow": {
     "slide_type": "fragment"
    }
   },
   "outputs": [
    {
     "name": "stdout",
     "output_type": "stream",
     "text": [
      "range(0, 5)\n",
      "[0, 1, 2, 3, 4]\n",
      "(0, 1, 2, 3, 4)\n",
      "[0, 2, 4]\n",
      "range(5, 0)\n",
      "[]\n",
      "[5, 4, 3, 2, 1]\n",
      "[5, 3, 1]\n",
      "True\n",
      "(range(5, 0, -1), [5, 3, 1], (5, 2))\n"
     ]
    }
   ],
   "source": [
    "# Test range here\n",
    "print(range(0,5))\n",
    "print(list(range(0,5)))\n",
    "print(tuple(range(0,5)))\n",
    "print(list(range(0,5,2)))\n",
    "\n",
    "print(range(5,0))\n",
    "print(list(range(5,0)))\n",
    "print(list(range(5,0,-1)))\n",
    "print(list(range(5,0,-2)))\n",
    "\n",
    "print(2 in range(0,5,2))\n",
    "\n",
    "tup = (range(5,0,-1),list(range(5,0,-2)),tuple(range(5,0,-3)))\n",
    "\n",
    "print(tup)"
   ]
  },
  {
   "cell_type": "markdown",
   "metadata": {
    "slideshow": {
     "slide_type": "slide"
    }
   },
   "source": [
    "# Dictionaries\n",
    "Dictionaries are also like lists, except that each element is a key-value pair. The syntax for dictionaries is `{key1 : value1, ...}:`\n",
    "\n",
    "### When dictionaries are useful\n",
    "1. Flexible & efficient way to associate labels with heterogeneous data\n",
    "2. Use where data items have, or can be given, labels\n",
    "3. Appropriate for collecting data of different kinds (e.g., name, addresses, ages)\n",
    "\n",
    "> In the cell below, create a dictionary for three countries and capitals using the syntax `{country:capital,...}`. Remember that strings still need parentheses!\n",
    "\n",
    "**Note**: You can also create an empty dicitionary using `{}` and fill it using `dictionary['key'] = 'value'`."
   ]
  },
  {
   "cell_type": "code",
   "execution_count": 13,
   "metadata": {
    "scrolled": true,
    "slideshow": {
     "slide_type": "fragment"
    }
   },
   "outputs": [
    {
     "data": {
      "text/plain": [
       "{'United Kingdom': 'London',\n",
       " 'France': 'Paris',\n",
       " 'Spain': 'Madrid',\n",
       " 'Australia': 'Canberra'}"
      ]
     },
     "execution_count": 13,
     "metadata": {},
     "output_type": "execute_result"
    }
   ],
   "source": [
    "capitals = {'United Kingdom':'London','France':'Paris','Spain':'Madrid','Australia':'??'}\n",
    "capitals\n",
    "capitals.update({'Australia':'Canberra'})\n",
    "capitals"
   ]
  },
  {
   "cell_type": "markdown",
   "metadata": {
    "slideshow": {
     "slide_type": "slide"
    }
   },
   "source": [
    "<div class=\"alert alert-success\"><b>Question:</b> Before running the cell below, predict: What would the following code produce?</div>"
   ]
  },
  {
   "cell_type": "code",
   "execution_count": 14,
   "metadata": {
    "scrolled": true,
    "slideshow": {
     "slide_type": "fragment"
    }
   },
   "outputs": [
    {
     "data": {
      "text/plain": [
       "{'United Kingdom': 'London',\n",
       " 'France': 'Paris',\n",
       " 'Spain': 'Madrid',\n",
       " 'Australia': 'Canberra'}"
      ]
     },
     "execution_count": 14,
     "metadata": {},
     "output_type": "execute_result"
    }
   ],
   "source": [
    "capitals.update({'Australia':'Canberra'})\n",
    "capitals"
   ]
  },
  {
   "cell_type": "code",
   "execution_count": 15,
   "metadata": {},
   "outputs": [
    {
     "name": "stdout",
     "output_type": "stream",
     "text": [
      "The capital of United Kingdom is London\n",
      "The capital of France is Paris\n",
      "The capital of Spain is Madrid\n",
      "The capital of Australia is Canberra\n",
      "London is the capital of United Kingdom\n",
      "Paris is the capital of France\n",
      "Madrid is the capital of Spain\n",
      "Canberra is the capital of Australia\n",
      "London is the capital of London\n",
      "Paris is the capital of Paris\n",
      "Madrid is the capital of Madrid\n",
      "Canberra is the capital of Canberra\n",
      "London is the capital of United Kingdom\n",
      "The capital of United Kingdom is London\n",
      "Paris is the capital of France\n",
      "The capital of France is Paris\n",
      "Madrid is the capital of Spain\n",
      "The capital of Spain is Madrid\n",
      "Canberra is the capital of Australia\n",
      "The capital of Australia is Canberra\n"
     ]
    }
   ],
   "source": [
    "capitals.update({'Argentina':'Buenos Aires'})\n",
    "capitals['Argentina']\n",
    "del capitals['Argentina']\n",
    "capitals\n",
    "# capitals['Argentina']\n",
    "for k in capitals:\n",
    "    print('The capital of', k,'is',capitals[k])\n",
    "\n",
    "for k,v in capitals.items():\n",
    "    print(v,'is the capital of', k)\n",
    "\n",
    "v_lst = list(capitals.values())\n",
    "k_lst = list(capitals.keys())\n",
    "for v in capitals.values():\n",
    "    print(v,'is the capital of', capitals[k_lst[v_lst.index(v)]])\n",
    "\n",
    "\n",
    "k = list(capitals.keys())\n",
    "v = list(capitals.values())\n",
    "for i in range(len(k)):\n",
    "    print(v[i],'is the capital of', k[i])\n",
    "    print('The capital of', k[i],'is',v[i])\n"
   ]
  },
  {
   "cell_type": "markdown",
   "metadata": {
    "slideshow": {
     "slide_type": "fragment"
    }
   },
   "source": [
    "<div class=\"alert alert-success\"><b>Task</b>: What happens if we look for a key that doesn't exist? Try this above."
   ]
  },
  {
   "cell_type": "markdown",
   "metadata": {
    "slideshow": {
     "slide_type": "slide"
    }
   },
   "source": [
    "### Additional dictionary functionality\n",
    "- Use `capitals.update(morecapitals)` to add another dictionary entry\n",
    "- Use `del capitals['US']` to delete entries\n",
    "- Loop by key or values, or both"
   ]
  },
  {
   "cell_type": "markdown",
   "metadata": {
    "slideshow": {
     "slide_type": "slide"
    }
   },
   "source": [
    "<hr>\n",
    "\n",
    "## Additional resources\n",
    "\n",
    "<a href=\"https://python101.pythonlibrary.org/chapter3_lists_dicts.html\">Python 101: Lists, Tuples, and Dictionaries</a>\n",
    "\n",
    "<a href=\"https://github.com/jakevdp/WhirlwindTourOfPython/blob/6f1daf714fe52a8dde6a288674ba46a7feed8816/06-Built-in-Data-Structures.ipynb\">Whirlwind Tour of Python: Built-In Data Structures</a>\n"
   ]
  },
  {
   "cell_type": "markdown",
   "metadata": {
    "slideshow": {
     "slide_type": "slide"
    }
   },
   "source": [
    "## About this notebook\n",
    "This notebook is largely derived from UCSD COGS18 Materials, created by Tom Donoghue & Shannon Ellis, as well as the <a href=\"https://github.com/jrjohansson/scientific-python-lectures/blob/master/Lecture-1-Introduction-to-Python-Programming.ipynb\">Scientific Python Lecture</a> by J.R. Johansson.\n",
    "\n",
    "Want to run this notebook as a slideshow? If you have Python (or Anaconda) follow <a href=\"http://www.blog.pythonlibrary.org/2018/09/25/creating-presentations-with-jupyter-notebook/\">these instructions</a> to setup your computer with the RISE plugin."
   ]
  }
 ],
 "metadata": {
  "kernelspec": {
   "display_name": "Python 3 (ipykernel)",
   "language": "python",
   "name": "python3"
  },
  "language_info": {
   "codemirror_mode": {
    "name": "ipython",
    "version": 3
   },
   "file_extension": ".py",
   "mimetype": "text/x-python",
   "name": "python",
   "nbconvert_exporter": "python",
   "pygments_lexer": "ipython3",
   "version": "3.11.9"
  },
  "rise": {
   "theme": "serif"
  }
 },
 "nbformat": 4,
 "nbformat_minor": 4
}
