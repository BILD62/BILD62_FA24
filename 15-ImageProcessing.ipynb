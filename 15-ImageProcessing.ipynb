{
 "cells": [
  {
   "cell_type": "markdown",
   "id": "906cb6db",
   "metadata": {},
   "source": [
    "# Image Processing"
   ]
  },
  {
   "cell_type": "markdown",
   "id": "8ac72e7c",
   "metadata": {},
   "source": [
    "## Setup"
   ]
  },
  {
   "cell_type": "code",
   "execution_count": null,
   "id": "f31d0713",
   "metadata": {},
   "outputs": [],
   "source": [
    "import numpy as np\n",
    "import matplotlib.pyplot as plt\n",
    "import matplotlib_inline\n",
    "matplotlib_inline.backend_inline.set_matplotlib_formats('retina')\n",
    "print('Packages imported.')"
   ]
  },
  {
   "cell_type": "markdown",
   "id": "5674d914",
   "metadata": {},
   "source": [
    "## *Background*: Filtering a signal with convolution\n",
    "Let's start with a simple step signal (left) which we'll add some noise to (right)."
   ]
  },
  {
   "cell_type": "code",
   "execution_count": null,
   "id": "4e4fb22e",
   "metadata": {},
   "outputs": [],
   "source": [
    "step_signal = np.zeros(100)\n",
    "step_signal[50:] = 1\n",
    "fig, ax = plt.subplots(1,2,figsize=(10,4))\n",
    "ax[0].plot(step_signal)\n",
    "\n",
    "noisy_signal = (step_signal + 0.3*np.random.normal(0, 1, step_signal.shape))\n",
    "ax[1].plot(noisy_signal)\n",
    "\n",
    "plt.show()"
   ]
  },
  {
   "cell_type": "markdown",
   "id": "ed950ad7",
   "metadata": {},
   "source": [
    "If our goal is to cover something that looks more like the image on the left, we can **smooth** the signal. In the first line below, we'll take each point and average it by one datapoint to the left and one datapoint to the right, discarding the ends of the signal, where we can't do this operation."
   ]
  },
  {
   "cell_type": "code",
   "execution_count": null,
   "id": "0592bf3f",
   "metadata": {},
   "outputs": [],
   "source": [
    "# Take the mean of neighboring datapoints\n",
    "smooth_signal = (noisy_signal[:-1] + noisy_signal[1:]) / 2.0\n",
    "\n",
    "plt.plot(smooth_signal)\n",
    "plt.show()"
   ]
  },
  {
   "cell_type": "markdown",
   "id": "64cbf836",
   "metadata": {},
   "source": [
    "Above, we're only averaging by one datapoint on each side. What if we average by 3 datapoints? Below, we'll do the following:\n",
    "1. Create an output array called `smooth_signal3`, of the same length as noisy_signal.\n",
    "2. At each element in `smooth_signal3` starting at point 1, and ending at point -2, place the average of the sum of: 1/3 of the element to the left of it in noisy_signal, 1/3 of the element at the same position, and 1/3 of the element to the right.\n",
    "3. Discard the leftmost and rightmost elements."
   ]
  },
  {
   "cell_type": "code",
   "execution_count": null,
   "id": "c4e0030d",
   "metadata": {},
   "outputs": [],
   "source": [
    "# Generate our signal\n",
    "smooth_signal3 = (noisy_signal[:-2] + noisy_signal[1:-1] + noisy_signal[2:]) / 3\n",
    "\n",
    "plt.plot(smooth_signal, label='mean of 2')\n",
    "plt.plot(smooth_signal3, label='mean of 3')\n",
    "plt.legend(loc='upper left')\n",
    "plt.show()"
   ]
  },
  {
   "cell_type": "markdown",
   "id": "537bf7af",
   "metadata": {},
   "source": [
    "If we want to continue this, the first line of our code is going to continue to get longer, and there isn't a straightforward way to make this flexible for how many points we want to average. Thankfully, there's a name for what we're doing: **convolving**. This same concept, nearest-neighbor averages, can be expressed as a **convolution with an averaging kernel**.\n",
    "\n",
    "**Convolution** is the process of adding each element of the image to its local neighbors, weighted by the kernel. "
   ]
  },
  {
   "cell_type": "code",
   "execution_count": null,
   "id": "fa5dec45",
   "metadata": {},
   "outputs": [],
   "source": [
    "# Same as above, using a convolution kernel\n",
    "# Neighboring pixels multiplied by 1/3 and summed\n",
    "\n",
    "# Create the \"kernel\". For 3, this creates an array that looks like [0.333,0.333,0.333]\n",
    "mean_kernel3 = np.full((3,), 1/3)\n",
    "\n",
    "# Smooth the signal by convolving it\n",
    "smooth_signal3p = np.convolve(noisy_signal, mean_kernel3, mode='valid')\n",
    "\n",
    "plt.plot(smooth_signal3p)\n",
    "plt.show()"
   ]
  },
  {
   "cell_type": "code",
   "execution_count": null,
   "id": "d6f7a0e9",
   "metadata": {},
   "outputs": [],
   "source": [
    "# Check that they're equal!\n",
    "print('smooth_signal3 and smooth_signal3p are equal:',\n",
    "      np.allclose(smooth_signal3, smooth_signal3p))"
   ]
  },
  {
   "cell_type": "markdown",
   "id": "6daf8ecf",
   "metadata": {},
   "source": [
    "> **Task**: What happens if we convolve with a kernel of size 10? Also, do these arrays have the same # of data points? If not, why?"
   ]
  },
  {
   "cell_type": "markdown",
   "id": "1066e414",
   "metadata": {},
   "source": [
    "##  Get familiar with using images in Python\n",
    "Below, we'll import a package called `misc` because it contains some useful things for our exercise today --  images! The primary package we'll use today, not surprisingly, is `matplotlib.pyplot`. We'll use [`plt.imshow()`](https://matplotlib.org/devdocs/api/_as_gen/matplotlib.pyplot.imshow.html) to show [our image](https://en.wikipedia.org/wiki/Cancer_cell#/media/File:Acute_lymphoblastic_leukaemia_smear.jpg)."
   ]
  },
  {
   "cell_type": "code",
   "execution_count": null,
   "id": "065961c7",
   "metadata": {},
   "outputs": [],
   "source": [
    "import matplotlib.pyplot as plt\n",
    "import matplotlib.image as mpimg # New module to read in images\n",
    "\n",
    "cells = mpimg.imread('Images/leukaemia_smear.jpeg')\n",
    "plt.axis('off')\n",
    "plt.imshow(cells)\n",
    "plt.show()"
   ]
  },
  {
   "cell_type": "markdown",
   "id": "4ccb161e",
   "metadata": {},
   "source": [
    "We can work with our `cells` object just like we would any other object. Let's check its shape. "
   ]
  },
  {
   "cell_type": "code",
   "execution_count": null,
   "id": "00a51973",
   "metadata": {},
   "outputs": [],
   "source": [
    "# Check cells shape\n"
   ]
  },
  {
   "cell_type": "markdown",
   "id": "90746ea0",
   "metadata": {},
   "source": [
    "If the first and second value are the size, what is the third value?\n",
    "<div class=\"alert alert-success\">\n",
    "\n",
    "**Task**: Below, use only the first values in the third dimension to generate a different version of our image that is only based on the \"R\" luminance. Call this `cells_gray`.\n",
    "\n",
    "</div>"
   ]
  },
  {
   "cell_type": "code",
   "execution_count": null,
   "id": "7c66f64e",
   "metadata": {},
   "outputs": [],
   "source": [
    "cells_gray = ..."
   ]
  },
  {
   "cell_type": "markdown",
   "id": "635aa0eb",
   "metadata": {},
   "source": [
    "By default, matplotlib uses the viridis color map to plot a sequence of values (you can see the luminance at each pixel by showing the colorbar with `plt.colorbar()`).\n",
    "<div class=\"alert alert-success\">\n",
    "    \n",
    " **Task**. Change your image to a different colormamp using the `cmap` argument in `plt.imshow`. There are many [colormaps](https://matplotlib.org/stable/tutorials/colors/colormaps.html) -- try some below!\n",
    "    \n",
    "</div>"
   ]
  },
  {
   "cell_type": "code",
   "execution_count": null,
   "id": "429a2d7b",
   "metadata": {},
   "outputs": [],
   "source": [
    "# Try your color maps here\n"
   ]
  },
  {
   "cell_type": "markdown",
   "id": "06731754",
   "metadata": {},
   "source": [
    "## Filtering images to smooth them\n",
    "In our signal processing tutorial, we talked about convolving a signal with an averaging kernel to smooth the signal. We can apply similar logic to images. Let's start with a very simple image."
   ]
  },
  {
   "cell_type": "code",
   "execution_count": null,
   "id": "b9f3714f",
   "metadata": {},
   "outputs": [],
   "source": [
    "import numpy as np\n",
    "\n",
    "bright_square = np.zeros((7, 7), dtype=float)\n",
    "bright_square[2:5, 2:5] = 1\n",
    "bright_square"
   ]
  },
  {
   "cell_type": "markdown",
   "id": "a5c75159",
   "metadata": {},
   "source": [
    "This gives the values above, and looks like this!"
   ]
  },
  {
   "cell_type": "code",
   "execution_count": null,
   "id": "7cb6b371",
   "metadata": {},
   "outputs": [],
   "source": [
    "plt.imshow(bright_square)\n",
    "plt.axis('off')\n",
    "plt.show()"
   ]
  },
  {
   "cell_type": "markdown",
   "id": "085a7576",
   "metadata": {},
   "source": [
    "For our first example of a filter, consider the following filtering array, which we’ll call a “mean kernel”. For each pixel, a kernel defines which neighboring pixels to consider when filtering, and how much to weight those pixels."
   ]
  },
  {
   "cell_type": "code",
   "execution_count": null,
   "id": "2cf9f648",
   "metadata": {},
   "outputs": [],
   "source": [
    "mean_kernel = np.full((3, 3), 1/9)\n",
    "\n",
    "print(mean_kernel)"
   ]
  },
  {
   "cell_type": "markdown",
   "id": "f774e293",
   "metadata": {},
   "source": [
    "Now, let’s take our mean kernel and apply it to every pixel of the image.\n",
    "\n",
    "Applying a (linear) filter essentially means:\n",
    "\n",
    "1. Center a kernel on a pixel\n",
    "\n",
    "2. Multiply the pixels under that kernel by the values in the kernel\n",
    "\n",
    "3. Sum all the those results\n",
    "\n",
    "4. Replace the center pixel with the summed result\n",
    "\n",
    "This process is known as **convolution** (the same process we applied to a signal, but now in 3D!)"
   ]
  },
  {
   "cell_type": "code",
   "execution_count": null,
   "id": "4a463b77",
   "metadata": {},
   "outputs": [],
   "source": [
    "# Import image processing toolbox\n",
    "import scipy.ndimage as ndi\n",
    "\n",
    "# Set precision\n",
    "%precision 2\n",
    "\n",
    "print(ndi.correlate(bright_square, mean_kernel))"
   ]
  },
  {
   "cell_type": "markdown",
   "id": "6383aeed",
   "metadata": {},
   "source": [
    "Below we'll show a short demo of what this looks like. If you're curious how this runs, you can dig into the `convolution_demo.py` file."
   ]
  },
  {
   "cell_type": "code",
   "execution_count": null,
   "id": "948d784c",
   "metadata": {},
   "outputs": [],
   "source": [
    "%run convolution_demo.py\n",
    "mean_filter_interactive_demo(bright_square);"
   ]
  },
  {
   "cell_type": "markdown",
   "id": "01c524e1",
   "metadata": {},
   "source": [
    "This kind of mean filter is a bit brute. Typically, we'd use a Gaussian filter, where the amount of filtering depends on the distance from the center point. Thankfully, we can do that using the filters module:"
   ]
  },
  {
   "cell_type": "code",
   "execution_count": null,
   "id": "565bb062",
   "metadata": {},
   "outputs": [],
   "source": [
    "from skimage import filters\n",
    "\n",
    "gaussian_cells = filters.gaussian(cells_gray,3)\n",
    "\n",
    "plt.imshow(gaussian_cells)\n",
    "plt.show()"
   ]
  },
  {
   "cell_type": "markdown",
   "id": "b49b48d7",
   "metadata": {},
   "source": [
    "## Edge filtering\n",
    "In biology, we often want to filter edges to identify different features within cells, or cells within a piece of tissue. To do so, we'll often use some sort of edge filtering. To give you an intuition for how edge filtering works, first consider taking our step function and convolving it with a filter that is [-1 0 1].\n",
    "\n",
    "**Note**: For technical signal processing reasons, convolutions actually occur “back to front” between the input array and the kernel. Correlations occur in the signal order, so we’ll use correlate from now on."
   ]
  },
  {
   "cell_type": "code",
   "execution_count": null,
   "id": "43553f05",
   "metadata": {},
   "outputs": [],
   "source": [
    "# Recreate the step signal\n",
    "step_signal = np.zeros(100)\n",
    "step_signal[50:] = 1\n",
    "\n",
    "# Convolve it with a [-1 0 1] filter\n",
    "edge_filter = np.correlate(step_signal, np.array([-1, 0, 1]),\n",
    "                          mode='valid')\n",
    "\n",
    "fig, ax = plt.subplots()\n",
    "ax.plot(step_signal, label='signal')\n",
    "ax.plot(edge_filter, linestyle='dashed', label='filtered')\n",
    "ax.legend(loc='upper left')\n",
    "ax.margins(y=0.1) "
   ]
  },
  {
   "cell_type": "markdown",
   "id": "ff9b267a",
   "metadata": {},
   "source": [
    "Whenever neighboring values are close, the filter response is close to 0. Right at the boundary of a step, we’re subtracting a small value from a large value and and get a spike in the response. This spike “identifies” our edge.\n",
    "\n",
    "Now, let's apply this to images. Below, we'll just apply one filter, in the vertical direction."
   ]
  },
  {
   "cell_type": "code",
   "execution_count": null,
   "id": "de075ffb",
   "metadata": {},
   "outputs": [],
   "source": [
    "vertical_kernel = np.array([\n",
    "    [-1],\n",
    "    [ 0],\n",
    "    [ 1],\n",
    "])\n",
    "\n",
    "gradient_vertical = ndi.correlate(cells_gray.astype(float),vertical_kernel)\n",
    "plt.imshow(gradient_vertical,cmap='gray')\n",
    "plt.show()"
   ]
  },
  {
   "cell_type": "markdown",
   "id": "bd2f90ff",
   "metadata": {},
   "source": [
    "As you can see, applying a filter in the vertical direction helps us identify horizontal edges.\n",
    "<div class=\"alert alert-success\">\n",
    "\n",
    "**Task**: Change the filter to a horizontal one and observe how this changes the edge detection.\n",
    "</div>\n",
    "    \n",
    "Thankfully, there's a commonly used filter, the **Sobel** edge filter, that does this for us. First, let's appreciate what it looks like for our bright square."
   ]
  },
  {
   "cell_type": "code",
   "execution_count": null,
   "id": "0ee26701",
   "metadata": {},
   "outputs": [],
   "source": [
    "plt.imshow(filters.sobel(bright_square))\n",
    "plt.show()"
   ]
  },
  {
   "cell_type": "markdown",
   "id": "b5b0476c",
   "metadata": {},
   "source": [
    "Now, let's apply it to our cells! \n",
    "<div class=\"alert alert-success\">\n",
    "    \n",
    "**Task**: Create a figure where the left subplot is a filter of our raw cell image. On the right, apply it to the Gaussian filtered image.\n",
    "    \n",
    "</div>"
   ]
  },
  {
   "cell_type": "code",
   "execution_count": null,
   "id": "a82097ae",
   "metadata": {},
   "outputs": [],
   "source": [
    "fig,ax = plt.subplots(1,2,figsize=(11,3))\n",
    "\n",
    "ax[0].imshow(filters.sobel(cells_gray),cmap='gray')\n",
    "ax[1].imshow(filters.sobel(gaussian_cells),cmap='gray')\n",
    "\n",
    "plt.show()"
   ]
  },
  {
   "cell_type": "markdown",
   "id": "4cf72cc0",
   "metadata": {},
   "source": [
    "Note that even just a little bit of preprocessing with a Gaussian filter changes the edge detection!"
   ]
  },
  {
   "cell_type": "markdown",
   "id": "3c7773c5",
   "metadata": {},
   "source": [
    "## About this notebook\n",
    "* Several of the exercises in this notebook are based on [this tutorial](https://jni.github.io/i2k-skimage-napari/lectures/1_image_filters.html#local-filtering).\n",
    "\n",
    "* https://www.analyticsvidhya.com/blog/2019/04/introduction-image-segmentation-techniques-python/\n",
    "* https://jni.github.io/i2k-skimage-napari/lectures/1_image_filters.html#local-filtering"
   ]
  }
 ],
 "metadata": {
  "kernelspec": {
   "display_name": "Python 3 (ipykernel)",
   "language": "python",
   "name": "python3"
  },
  "language_info": {
   "codemirror_mode": {
    "name": "ipython",
    "version": 3
   },
   "file_extension": ".py",
   "mimetype": "text/x-python",
   "name": "python",
   "nbconvert_exporter": "python",
   "pygments_lexer": "ipython3",
   "version": "3.11.9"
  }
 },
 "nbformat": 4,
 "nbformat_minor": 5
}
